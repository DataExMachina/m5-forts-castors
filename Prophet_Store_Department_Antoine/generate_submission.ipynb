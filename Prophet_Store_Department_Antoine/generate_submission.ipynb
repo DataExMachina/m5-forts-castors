{
 "cells": [
  {
   "cell_type": "code",
   "execution_count": null,
   "metadata": {},
   "outputs": [],
   "source": [
    "import numpy as np\n",
    "import pandas as pd\n",
    "import pickle"
   ]
  },
  {
   "cell_type": "code",
   "execution_count": null,
   "metadata": {},
   "outputs": [],
   "source": [
    "SUBMISSION_TYPE = 'validation'"
   ]
  },
  {
   "cell_type": "code",
   "execution_count": null,
   "metadata": {},
   "outputs": [],
   "source": [
    "top_forecast = pd.read_csv('../data/refined/forecast_prophet_store_dept.csv')\n",
    "top_forecast = top_forecast[top_forecast.y.isnull()]\n",
    "top_forecast['store_id'] = top_forecast['id'].str[:4]\n",
    "top_forecast['dept_id'] = top_forecast['id'].str[5:]\n",
    "top_forecast.head()"
   ]
  },
  {
   "cell_type": "code",
   "execution_count": null,
   "metadata": {},
   "outputs": [],
   "source": [
    "#top_down_ratio = pd.read_csv('../data/refined/top_down_ratio_' + SUBMISSION_TYPE + '.csv')\n",
    "top_down_ratio = pd.read_csv('../data/external/lgb_weights_validation.csv')\n",
    "top_down_ratio"
   ]
  },
  {
   "cell_type": "code",
   "execution_count": null,
   "metadata": {},
   "outputs": [],
   "source": [
    "#top_down_ratio.describe()[['sales_ratio']]"
   ]
  },
  {
   "cell_type": "code",
   "execution_count": null,
   "metadata": {},
   "outputs": [],
   "source": [
    "#top_down_ratio.groupby(['dept_id', 'store_id', 'd'])['sales_ratio'].sum().reset_index()"
   ]
  },
  {
   "cell_type": "code",
   "execution_count": null,
   "metadata": {},
   "outputs": [],
   "source": [
    "#from scipy.special import softmax\n",
    "#\n",
    "#top_down_ratio['sales_ratio_softmax'] = test \\\n",
    "#    .groupby(['dept_id', 'store_id', 'd'])['sales_ratio'] \\\n",
    "#    .apply(lambda x: softmax(x))\n",
    "#\n",
    "#top_down_ratio['sales_ratio_rescale'] = test \\\n",
    "#    .groupby(['dept_id', 'store_id', 'd'])['sales_ratio'] \\\n",
    "#    .apply(lambda x: x / x.sum())"
   ]
  },
  {
   "cell_type": "code",
   "execution_count": null,
   "metadata": {},
   "outputs": [],
   "source": [
    "forecast_df = top_forecast[['store_id', 'dept_id', 'd', 'yhat']]\n",
    "forecast_df = pd.pivot_table(forecast_df, index=['store_id', 'dept_id'], columns='d', values='yhat')\n",
    "forecast_df.columns = ['F' + str(int(c) + 1) for c in range(28)]\n",
    "forecast_df = forecast_df.reset_index()"
   ]
  },
  {
   "cell_type": "code",
   "execution_count": null,
   "metadata": {},
   "outputs": [],
   "source": [
    "sales_train_validation = pd.read_csv('../data/raw/sales_train_validation.csv')\n",
    "sales_train_validation = sales_train_validation[['id', 'store_id', 'dept_id']]"
   ]
  },
  {
   "cell_type": "code",
   "execution_count": null,
   "metadata": {},
   "outputs": [],
   "source": [
    "forecast_df = pd.merge(sales_train_validation, forecast_df)\n",
    "forecast_df.drop(columns=['store_id', 'dept_id'], inplace=True)"
   ]
  },
  {
   "cell_type": "code",
   "execution_count": null,
   "metadata": {},
   "outputs": [],
   "source": [
    "forecast_df.set_index('id', inplace=True)\n",
    "top_down_ratio.set_index('id', inplace=True)\n",
    "forecast_df = forecast_df * top_down_ratio\n",
    "forecast_df.dropna(inplace=True)"
   ]
  },
  {
   "cell_type": "code",
   "execution_count": null,
   "metadata": {},
   "outputs": [],
   "source": [
    "res = pd.read_csv('../data/raw/sample_submission.csv')\n",
    "res.set_index('id', inplace=True)\n",
    "res.update(forecast_df)\n",
    "res.reset_index(inplace=True)"
   ]
  },
  {
   "cell_type": "code",
   "execution_count": null,
   "metadata": {},
   "outputs": [],
   "source": [
    "---------"
   ]
  },
  {
   "cell_type": "code",
   "execution_count": null,
   "metadata": {},
   "outputs": [],
   "source": [
    "forecast_df = pd.merge(top_down_ratio, top_forecast.drop(columns='id'))"
   ]
  },
  {
   "cell_type": "code",
   "execution_count": null,
   "metadata": {},
   "outputs": [],
   "source": [
    "forecast = np.array(forecast_df['sales_ratio_softmax'] * forecast_df['yhat'])"
   ]
  },
  {
   "cell_type": "code",
   "execution_count": null,
   "metadata": {},
   "outputs": [],
   "source": [
    "output_id = forecast_df.id.unique()\n",
    "forecast_df = pd.DataFrame(forecast.reshape(output_id.shape[0], 28))\n",
    "forecast_df.columns = ['F' + str(int(c) + 1) for c in forecast_df.columns]\n",
    "forecast_df['id'] = output_id\n",
    "if SUBMISSION_TYPE == 'validation':\n",
    "    forecast_df['id'] = forecast_df['id'].str.replace('evaluation', 'validation')\n",
    "forecast_df.set_index('id', inplace=True)"
   ]
  },
  {
   "cell_type": "code",
   "execution_count": null,
   "metadata": {},
   "outputs": [],
   "source": [
    "res = pd.read_csv('../data/raw/sample_submission.csv')\n",
    "res.set_index('id', inplace=True)\n",
    "res.update(forecast_df)\n",
    "res.reset_index(inplace=True)"
   ]
  },
  {
   "cell_type": "code",
   "execution_count": null,
   "metadata": {},
   "outputs": [],
   "source": [
    "res.to_csv('../data/submission/Prophet_top_down_lgbm.csv', index=False)"
   ]
  },
  {
   "cell_type": "code",
   "execution_count": null,
   "metadata": {},
   "outputs": [],
   "source": []
  }
 ],
 "metadata": {
  "kernelspec": {
   "display_name": "Python [conda env:m5_env] *",
   "language": "python",
   "name": "conda-env-m5_env-py"
  },
  "language_info": {
   "codemirror_mode": {
    "name": "ipython",
    "version": 3
   },
   "file_extension": ".py",
   "mimetype": "text/x-python",
   "name": "python",
   "nbconvert_exporter": "python",
   "pygments_lexer": "ipython3",
   "version": "3.7.6"
  }
 },
 "nbformat": 4,
 "nbformat_minor": 4
}
