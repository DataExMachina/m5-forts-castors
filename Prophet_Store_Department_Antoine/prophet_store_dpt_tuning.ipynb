{
 "cells": [
  {
   "cell_type": "code",
   "execution_count": null,
   "metadata": {},
   "outputs": [],
   "source": [
    "import pandas as pd\n",
    "import numpy as np\n",
    "import pickle\n",
    "\n",
    "import plotly.offline as py\n",
    "import optuna\n",
    "import json\n",
    "import datetime\n",
    "\n",
    "from joblib import Parallel, delayed\n",
    "from fbprophet import Prophet\n",
    "from fbprophet.plot import *\n",
    "from fbprophet.diagnostics import cross_validation\n",
    "from fbprophet.diagnostics import performance_metrics"
   ]
  },
  {
   "cell_type": "markdown",
   "metadata": {},
   "source": [
    "## Params"
   ]
  },
  {
   "cell_type": "code",
   "execution_count": null,
   "metadata": {},
   "outputs": [],
   "source": [
    "START_DAY = 0\n",
    "END_SALES = 1913"
   ]
  },
  {
   "cell_type": "markdown",
   "metadata": {},
   "source": [
    "## Load interim data"
   ]
  },
  {
   "cell_type": "code",
   "execution_count": null,
   "metadata": {},
   "outputs": [],
   "source": [
    "grid_df = pd.read_pickle(\"data/interim/grid_df.pkl\")"
   ]
  },
  {
   "cell_type": "markdown",
   "metadata": {},
   "source": [
    "## Reduce on params period"
   ]
  },
  {
   "cell_type": "code",
   "execution_count": null,
   "metadata": {},
   "outputs": [],
   "source": [
    "if START_DAY > 0:\n",
    "    grid_df = grid_df[START_DAY <= grid_df['d']]"
   ]
  },
  {
   "cell_type": "markdown",
   "metadata": {},
   "source": [
    "## Format data for Prophet"
   ]
  },
  {
   "cell_type": "code",
   "execution_count": null,
   "metadata": {},
   "outputs": [],
   "source": [
    "grid_df['snap'] = grid_df['snap_CA']\n",
    "grid_df.loc[grid_df['state_id'] == 'TX', 'snap'] = grid_df.loc[grid_df['state_id'] == 'TX', 'snap_TX'].values\n",
    "grid_df.loc[grid_df['state_id'] == 'WI', 'snap'] = grid_df.loc[grid_df['state_id'] == 'WI', 'snap_WI'].values\n",
    "grid_df['snap'] = grid_df['snap'].astype(int)"
   ]
  },
  {
   "cell_type": "code",
   "execution_count": null,
   "metadata": {},
   "outputs": [],
   "source": [
    "prophet_df = grid_df.groupby(['store_id', 'dept_id', 'd']).agg(ds=('date', 'max'), \n",
    "                                                               y=('sales', 'sum'),\n",
    "                                                               snap=('snap', 'max'),\n",
    "                                                               price=('sell_price', 'max')).reset_index()\n",
    "\n",
    "prophet_df['id'] = prophet_df['store_id'].astype(str) + '_' + prophet_df['dept_id'].astype(str)\n",
    "prophet_df.loc[prophet_df['d'] > END_SALES, 'y'] = np.nan # because in pandas, sum of NaN == 0\n",
    "\n",
    "prophet_df = prophet_df[['id', 'd', 'ds', 'y', 'snap', 'price']]\n",
    "\n",
    "del grid_df"
   ]
  },
  {
   "cell_type": "markdown",
   "metadata": {},
   "source": [
    "## Define tuning function"
   ]
  },
  {
   "cell_type": "code",
   "execution_count": null,
   "metadata": {},
   "outputs": [],
   "source": [
    "def optimize_prophet(id):\n",
    "    \n",
    "    # Reduce df on current\n",
    "    df = prophet_df[prophet_df['id'] == id].copy()\n",
    "    df.dropna(inplace=True)\n",
    "\n",
    "    def objective(trial):\n",
    "        # Define Space \n",
    "        params = {\n",
    "            'n_changepoints': trial.suggest_int('n_changepoints', 1, 100),\n",
    "            'changepoint_range': trial.suggest_loguniform('changepoint_range', 0.5, 1.0),\n",
    "            'seasonality_mode': trial.suggest_categorical('seasonality_mode', ['additive', 'multiplicative']),\n",
    "            'seasonality_prior_scale': trial.suggest_loguniform('seasonality_prior_scale', 0.01, 30),\n",
    "            'holidays_prior_scale': trial.suggest_loguniform('holidays_prior_scale', 0.01, 30),\n",
    "            'changepoint_prior_scale': trial.suggest_loguniform('changepoint_prior_scale', 0.01, 30),\n",
    "            # ---------\n",
    "            'yearly_order': trial.suggest_int('yearly_order', 1, 50),\n",
    "            'monthly_order': trial.suggest_int('monthly_order', 1, 50),\n",
    "            'weekly_order': trial.suggest_int('weekly_order', 1, 50),\n",
    "            # ---------\n",
    "            'add_holidays': trial.suggest_categorical('add_holidays', [True, False]),\n",
    "            'add_snap': trial.suggest_categorical('add_snap', [True, False]),\n",
    "            'add_price': trial.suggest_categorical('add_price', [True, False])\n",
    "        }\n",
    "        \n",
    "        # Define model\n",
    "        m = Prophet(\n",
    "            yearly_seasonality=False,\n",
    "            weekly_seasonality=False,\n",
    "            daily_seasonality=False,\n",
    "            uncertainty_samples=False,\n",
    "            n_changepoints=params['n_changepoints'],\n",
    "            changepoint_range=params['changepoint_range'],\n",
    "            seasonality_mode=params['seasonality_mode'],\n",
    "            seasonality_prior_scale=params['seasonality_prior_scale'],\n",
    "            holidays_prior_scale=params['holidays_prior_scale'],\n",
    "            changepoint_prior_scale=params['changepoint_prior_scale'],\n",
    "        )\n",
    "        \n",
    "        m.add_seasonality(\n",
    "            name='yearly', \n",
    "            period=365.25, \n",
    "            fourier_order=params['yearly_order'],\n",
    "        )\n",
    "        \n",
    "        m.add_seasonality(\n",
    "            name='monthly', \n",
    "            period=365.25/12, \n",
    "            fourier_order=params['monthly_order'],\n",
    "        )\n",
    "        \n",
    "        m.add_seasonality(\n",
    "            name='weekly', \n",
    "            period=7, \n",
    "            fourier_order=params['weekly_order'],\n",
    "        )\n",
    "        \n",
    "        # Add holidays/regressor\n",
    "        if params['add_holidays']:\n",
    "            m.add_country_holidays(country_name='US')\n",
    "    \n",
    "        if params['add_snap']:\n",
    "            params['snap_mode'] = trial.suggest_categorical('snap_mode', ['additive', 'multiplicative'])\n",
    "            m.add_regressor('snap', mode=params['snap_mode'])\n",
    "            \n",
    "        if params['add_price']:\n",
    "            m.add_regressor('price')\n",
    "                    \n",
    "        # Fit \n",
    "        m.fit(df)\n",
    "        \n",
    "        # TS validation\n",
    "        df_cv = cross_validation(m, horizon = '28 days', period='28 days', initial='1548 days')\n",
    "        \n",
    "        # Calculate Error\n",
    "        rmse = np.sqrt(np.mean(np.square(df_cv['y'] - df_cv['yhat'])))\n",
    "        \n",
    "        return rmse\n",
    "    \n",
    "    study = optuna.create_study(direction=\"minimize\")\n",
    "    study.optimize(objective, n_trials=1)\n",
    "    \n",
    "    return study.best_value, study.best_params"
   ]
  },
  {
   "cell_type": "markdown",
   "metadata": {},
   "source": [
    "## Tune all series in parallel"
   ]
  },
  {
   "cell_type": "code",
   "execution_count": null,
   "metadata": {},
   "outputs": [],
   "source": [
    "l_id = prophet_df['id'].unique()\n",
    "\n",
    "print(len(l_id))"
   ]
  },
  {
   "cell_type": "code",
   "execution_count": null,
   "metadata": {},
   "outputs": [],
   "source": [
    "opt = Parallel(n_jobs=-1, verbose=1)(delayed(optimize_prophet)(id) for id in l_id[:2])"
   ]
  },
  {
   "cell_type": "markdown",
   "metadata": {},
   "source": [
    "## Format & save outpus"
   ]
  },
  {
   "cell_type": "code",
   "execution_count": null,
   "metadata": {},
   "outputs": [],
   "source": [
    "prophet_params = {}\n",
    "for i, r in enumerate(opt):\n",
    "    prophet_params[l_id[i]] = {'rmse': r[0], 'params': r[1]}"
   ]
  },
  {
   "cell_type": "code",
   "execution_count": null,
   "metadata": {},
   "outputs": [],
   "source": [
    "dt = datetime.datetime.now().isoformat(\"-\").split(\".\")[0].replace(\":\",\"-\")\n",
    "\n",
    "with open('prophet_params_' + dt + '.json', 'w') as json_file:\n",
    "    json.dump(prophet_params, json_file)"
   ]
  }
 ],
 "metadata": {
  "kernelspec": {
   "display_name": "Python [conda env:m5_env] *",
   "language": "python",
   "name": "conda-env-m5_env-py"
  },
  "language_info": {
   "codemirror_mode": {
    "name": "ipython",
    "version": 3
   },
   "file_extension": ".py",
   "mimetype": "text/x-python",
   "name": "python",
   "nbconvert_exporter": "python",
   "pygments_lexer": "ipython3",
   "version": "3.7.6"
  }
 },
 "nbformat": 4,
 "nbformat_minor": 4
}
