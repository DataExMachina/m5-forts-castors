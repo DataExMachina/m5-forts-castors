{
 "cells": [
  {
   "cell_type": "code",
   "execution_count": null,
   "metadata": {},
   "outputs": [],
   "source": [
    "import numpy as np\n",
    "import pandas as pd"
   ]
  },
  {
   "cell_type": "markdown",
   "metadata": {},
   "source": [
    "## Params"
   ]
  },
  {
   "cell_type": "code",
   "execution_count": null,
   "metadata": {},
   "outputs": [],
   "source": [
    "DATA_PATH = 'data/'\n",
    "PERIOD_LABEL = 'evaluation'"
   ]
  },
  {
   "cell_type": "code",
   "execution_count": null,
   "metadata": {},
   "outputs": [],
   "source": [
    "def distribute_volume(FORECAST_FILE, WEIGHT_FILE, OUTPUT_NAME, PERIOD_LABEL):\n",
    "    forecast = pd.read_csv(DATA_PATH + 'external/' + FORECAST_FILE + '_' + PERIOD_LABEL + '.csv')\n",
    "    weights = pd.read_csv(DATA_PATH + 'external/' + WEIGHT_FILE + '_' + PERIOD_LABEL + '.csv')\n",
    "    \n",
    "    sample_submission = pd.read_csv(DATA_PATH + 'raw/sample_submission.csv')\n",
    "    submission_ids = pd.read_csv(DATA_PATH + 'raw/sales_train_' + PERIOD_LABEL + '.csv')[['id', 'store_id', 'dept_id']]\n",
    "    \n",
    "    forecast = pd.merge(submission_ids, forecast).drop(columns=['store_id', 'dept_id'])\n",
    "    weights = pd.merge(submission_ids, weights).drop(columns=['store_id', 'dept_id'])\n",
    "    \n",
    "    res = sample_submission.set_index('id')\n",
    "    res.update(forecast.set_index('id') * weights.set_index('id'))\n",
    "    res.reset_index(inplace=True)\n",
    "    res.to_csv(DATA_PATH + 'submission/' + OUTPUT_NAME + '_' + PERIOD_LABEL + '.csv', index=False)"
   ]
  },
  {
   "cell_type": "code",
   "execution_count": null,
   "metadata": {},
   "outputs": [],
   "source": [
    "# Note: the '_evaluation' or '_validation' will be add automatically \n",
    "FORECAST_FILE = ['forecast_prophet_store_dpt', 'forecast_wavenet_store_dpt', 'lgb_estim_top_down'] \n",
    "WEIGHT_FILE = ['lgb_weights']*3\n",
    "OUTPUT_NAME = ['Prophet_store_dpt_lgb_weights', 'Wavenet_store_dpt_lgb_weights', 'Lgb_store_dpt_lgb_weights']\n",
    "\n",
    "for val in zip(FORECAST_FILE, WEIGHT_FILE, OUTPUT_NAME):\n",
    "    distribute_volume(val[0], val[1], val[2], PERIOD_LABEL)"
   ]
  }
 ],
 "metadata": {
  "kernelspec": {
   "display_name": "Python 3",
   "language": "python",
   "name": "python3"
  },
  "language_info": {
   "codemirror_mode": {
    "name": "ipython",
    "version": 3
   },
   "file_extension": ".py",
   "mimetype": "text/x-python",
   "name": "python",
   "nbconvert_exporter": "python",
   "pygments_lexer": "ipython3",
   "version": "3.7.6"
  }
 },
 "nbformat": 4,
 "nbformat_minor": 4
}
