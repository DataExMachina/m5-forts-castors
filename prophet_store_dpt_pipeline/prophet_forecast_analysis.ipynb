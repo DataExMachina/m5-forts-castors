{
 "cells": [
  {
   "cell_type": "code",
   "execution_count": null,
   "metadata": {},
   "outputs": [],
   "source": [
    "import pandas as pd\n",
    "import numpy as np\n",
    "import pickle\n",
    "\n",
    "import plotly.offline as py\n",
    "\n",
    "from joblib import Parallel, delayed\n",
    "from fbprophet import Prophet\n",
    "from fbprophet.plot import *\n",
    "from fbprophet.diagnostics import cross_validation\n",
    "from fbprophet.diagnostics import performance_metrics"
   ]
  },
  {
   "cell_type": "markdown",
   "metadata": {},
   "source": [
    "## Params"
   ]
  },
  {
   "cell_type": "code",
   "execution_count": null,
   "metadata": {},
   "outputs": [],
   "source": [
    "IS_EVAL = False\n",
    "DATA_PATH = '../data/'\n",
    "\n",
    "if IS_EVAL:\n",
    "    PERIOD_LABEL = 'evaluation'\n",
    "else:\n",
    "    PERIOD_LABEL = 'validation'"
   ]
  },
  {
   "cell_type": "markdown",
   "metadata": {},
   "source": [
    "## Load needed data"
   ]
  },
  {
   "cell_type": "code",
   "execution_count": null,
   "metadata": {},
   "outputs": [],
   "source": [
    "prophet_df = pd.read_pickle(DATA_PATH + 'refined/prophet_df_' + PERIOD_LABEL + '.pkl')\n",
    "prophet_params = pd.read_csv(DATA_PATH + 'external/params_prophet_store_dpt_' + PERIOD_LABEL + '.csv')\n",
    "sample_submission = pd.read_csv(DATA_PATH + 'raw/sample_submission.csv')"
   ]
  },
  {
   "cell_type": "markdown",
   "metadata": {},
   "source": [
    "## Forecast"
   ]
  },
  {
   "cell_type": "code",
   "execution_count": null,
   "metadata": {},
   "outputs": [],
   "source": [
    "def forecast_prophet(store_id, dept_id):\n",
    "    \n",
    "    # Reduce df & params on current \n",
    "    df = prophet_df[(prophet_df['store_id'] == store_id) & (prophet_df['dept_id'] == dept_id)].copy()\n",
    "    params = prophet_params.loc[(prophet_params['store_id'] == store_id) & \n",
    "                                (prophet_params['dept_id'] == dept_id), 'params'].values[0]\n",
    "    params = eval(params) # String to dict\n",
    "\n",
    "    # Save features & d for prediction period before dropna\n",
    "    futur_price = df['price'].values\n",
    "    futur_snap = df['snap'].values\n",
    "    futur_d = df['d'].values\n",
    "    futur_y = df['y'].values\n",
    "    df.dropna(inplace=True)\n",
    "    \n",
    "    # Define model\n",
    "    m = Prophet(\n",
    "        yearly_seasonality=False,\n",
    "        weekly_seasonality=False,\n",
    "        daily_seasonality=False,\n",
    "        uncertainty_samples=False,\n",
    "        changepoint_range=params['changepoint_range'],\n",
    "        seasonality_mode=params['seasonality_mode'],\n",
    "        seasonality_prior_scale=params['seasonality_prior_scale'],\n",
    "        holidays_prior_scale=params['holidays_prior_scale'],\n",
    "        changepoint_prior_scale=params['changepoint_prior_scale'],\n",
    "    )\n",
    "    \n",
    "    m.add_seasonality(\n",
    "        name='yearly', \n",
    "        period=365.25, \n",
    "        fourier_order=params['yearly_order'],\n",
    "    )\n",
    "    \n",
    "    m.add_seasonality(\n",
    "        name='monthly', \n",
    "        period=365.25/12, \n",
    "        fourier_order=params['monthly_order'],\n",
    "    )\n",
    "    \n",
    "    m.add_seasonality(\n",
    "        name='weekly', \n",
    "        period=7,\n",
    "        fourier_order=params['weekly_order'],\n",
    "    )\n",
    "    \n",
    "    # Add holidays/regressor\n",
    "    m.add_country_holidays(country_name='US')\n",
    "    \n",
    "    m.add_regressor('snap', mode=params['snap_mode'])\n",
    "        \n",
    "    m.add_regressor('price')\n",
    "                \n",
    "    # Fit \n",
    "    m.fit(df)\n",
    "    \n",
    "    # TS validation\n",
    "    initial = str(df['d'].max() - 28 - 1) + ' days' # only one cutoff to validate\n",
    "    df_cv = cross_validation(m, horizon='28 days', period='28 days', initial=initial)\n",
    "    \n",
    "    # Calculate Error\n",
    "    #rmse = np.sqrt(np.mean(np.square(df_cv['y'] - df_cv['yhat'])))\n",
    "    score = np.mean(np.square(df_cv['y'] - df_cv['yhat']))\n",
    "    scale = np.mean(np.square(np.diff(df['y'].values[:-28]).astype(np.float32)))\n",
    "    rmsse = np.sqrt(score / scale)\n",
    "       \n",
    "    print(rmsse)\n",
    "    \n",
    "    # Predict\n",
    "    future = m.make_future_dataframe(periods=28, freq='D', include_history=True)\n",
    "    \n",
    "    future['price'] = futur_price\n",
    "    future['snap'] = futur_snap\n",
    "    \n",
    "    fcst = m.predict(future)\n",
    "    \n",
    "    # Add ids & d to the output\n",
    "    fcst['store_id'] = store_id\n",
    "    fcst['dept_id'] = dept_id\n",
    "    fcst['d'] = futur_d\n",
    "    fcst['y'] = futur_y\n",
    "    \n",
    "    # round forecast\n",
    "    for c in ['yhat']:\n",
    "        fcst[c] = fcst[c].round().astype(int)\n",
    "        fcst.loc[fcst[c] < 0, c] = 0\n",
    "        \n",
    "    return m, fcst"
   ]
  },
  {
   "cell_type": "code",
   "execution_count": null,
   "metadata": {},
   "outputs": [],
   "source": [
    "prophet_params.sort_values('rmsse')"
   ]
  },
  {
   "cell_type": "code",
   "execution_count": null,
   "metadata": {},
   "outputs": [],
   "source": [
    "store_id = 'WI_2'\n",
    "dept_id = 'HOUSEHOLD_1'\n",
    "eval(prophet_params[(prophet_params.store_id == store_id) & (prophet_params.dept_id == dept_id)].params.values[0])"
   ]
  },
  {
   "cell_type": "code",
   "execution_count": null,
   "metadata": {},
   "outputs": [],
   "source": [
    "m, fcst = forecast_prophet(store_id, dept_id)"
   ]
  },
  {
   "cell_type": "code",
   "execution_count": null,
   "metadata": {},
   "outputs": [],
   "source": [
    "fig = plot_plotly(m, fcst, uncertainty=True, plot_cap=False, trend=True, changepoints=True,\n",
    "                  changepoints_threshold=0.01, xlabel='date', ylabel='sales', figsize=(900, 600))\n",
    "py.iplot(fig)"
   ]
  }
 ],
 "metadata": {
  "kernelspec": {
   "display_name": "Python [conda env:m5_env] *",
   "language": "python",
   "name": "conda-env-m5_env-py"
  },
  "language_info": {
   "codemirror_mode": {
    "name": "ipython",
    "version": 3
   },
   "file_extension": ".py",
   "mimetype": "text/x-python",
   "name": "python",
   "nbconvert_exporter": "python",
   "pygments_lexer": "ipython3",
   "version": "3.7.6"
  }
 },
 "nbformat": 4,
 "nbformat_minor": 4
}
