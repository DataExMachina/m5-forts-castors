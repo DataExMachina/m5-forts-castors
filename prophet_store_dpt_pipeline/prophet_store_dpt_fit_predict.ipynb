{
 "cells": [
  {
   "cell_type": "code",
   "execution_count": null,
   "metadata": {},
   "outputs": [],
   "source": [
    "import pandas as pd\n",
    "import numpy as np\n",
    "import pickle\n",
    "\n",
    "from joblib import Parallel, delayed\n",
    "from fbprophet import Prophet"
   ]
  },
  {
   "cell_type": "markdown",
   "metadata": {},
   "source": [
    "## Params"
   ]
  },
  {
   "cell_type": "code",
   "execution_count": null,
   "metadata": {},
   "outputs": [],
   "source": [
    "IS_EVAL = True\n",
    "DATA_PATH = '../data/'\n",
    "\n",
    "if IS_EVAL:\n",
    "    PERIOD_LABEL = 'evaluation'\n",
    "else:\n",
    "    PERIOD_LABEL = 'validation'"
   ]
  },
  {
   "cell_type": "markdown",
   "metadata": {},
   "source": [
    "## Load needed data"
   ]
  },
  {
   "cell_type": "code",
   "execution_count": null,
   "metadata": {},
   "outputs": [],
   "source": [
    "prophet_df = pd.read_pickle(DATA_PATH + 'refined/prophet_df_' + PERIOD_LABEL + '.pkl')\n",
    "prophet_params = pd.read_csv(DATA_PATH + 'external/params_prophet_store_dpt_' + PERIOD_LABEL + '.csv')\n",
    "sample_submission = pd.read_csv(DATA_PATH + 'raw/sample_submission.csv')"
   ]
  },
  {
   "cell_type": "markdown",
   "metadata": {},
   "source": [
    "## Forecast"
   ]
  },
  {
   "cell_type": "code",
   "execution_count": null,
   "metadata": {},
   "outputs": [],
   "source": [
    "def forecast_prophet(store_id, dept_id):\n",
    "    \n",
    "    # Reduce df & params on current \n",
    "    df = prophet_df[(prophet_df['store_id'] == store_id) & (prophet_df['dept_id'] == dept_id)].copy()\n",
    "    params = prophet_params.loc[(prophet_params['store_id'] == store_id) & \n",
    "                                (prophet_params['dept_id'] == dept_id), 'params'].values[0]\n",
    "    params = eval(params) # String to dict\n",
    "    \n",
    "    # Define model\n",
    "    m = Prophet(\n",
    "            yearly_seasonality=False,\n",
    "            weekly_seasonality=False,\n",
    "            daily_seasonality=False,\n",
    "            uncertainty_samples=False,\n",
    "            changepoint_range=params['changepoint_range'],\n",
    "            changepoint_prior_scale=params['changepoint_prior_scale'],\n",
    "            holidays_prior_scale=params['holidays_prior_scale'],\n",
    "            seasonality_mode=params['seasonality_mode']\n",
    "        )\n",
    "        \n",
    "    m.add_seasonality(\n",
    "        name='yearly', \n",
    "        period=365.25, \n",
    "        fourier_order=params['yearly_order'],\n",
    "        prior_scale=params['yearly_prior_scale']\n",
    "    )\n",
    "    \n",
    "    m.add_seasonality(\n",
    "        name='monthly', \n",
    "        period=365.25/12, \n",
    "        fourier_order=params['monthly_order'],\n",
    "        prior_scale=params['monthly_prior_scale']\n",
    "    )\n",
    "    \n",
    "    m.add_seasonality(\n",
    "        name='weekly', \n",
    "        period=7, \n",
    "        fourier_order=params['weekly_order'],\n",
    "        prior_scale=params['weekly_prior_scale']\n",
    "    )\n",
    "    \n",
    "    # Add holidays/regressor\n",
    "    m.add_country_holidays(country_name='US')\n",
    "    \n",
    "    m.add_regressor('snap', mode=params['snap_mode'])\n",
    "        \n",
    "    m.add_regressor('price', mode=params['price_mode'])\n",
    "    \n",
    "    m.add_regressor('dom', mode=params['dom_mode'])\n",
    "    \n",
    "    # Fit \n",
    "    m.fit(df.dropna(subset=['y'])) # drop pred period\n",
    "    \n",
    "    # Predict\n",
    "    future = m.make_future_dataframe(periods=28, freq='D', include_history=False)\n",
    "    \n",
    "    future['snap'] = df['snap'].values[-28:]\n",
    "    future['price'] = df['price'].values[-28:]\n",
    "    future['dom'] = df['dom'].values[-28:]\n",
    "    \n",
    "    fcst = m.predict(future)\n",
    "    \n",
    "    # Add ids & d to the output\n",
    "    fcst['store_id'] = store_id\n",
    "    fcst['dept_id'] = dept_id\n",
    "    fcst['d'] = df['d'].values[-28:]\n",
    "    \n",
    "    # Round forecast\n",
    "    fcst['yhat'] = fcst['yhat'].round().astype(int)\n",
    "    fcst.loc[fcst['yhat'] < 0, 'yhat'] = 0\n",
    "        \n",
    "    return fcst[['store_id', 'dept_id', 'd', 'yhat']]"
   ]
  },
  {
   "cell_type": "code",
   "execution_count": null,
   "metadata": {},
   "outputs": [],
   "source": [
    "ts_ids = prophet_df[['store_id', 'dept_id']].drop_duplicates().reset_index(drop=True)\n",
    "\n",
    "res = Parallel(n_jobs=-1, verbose=1)\\\n",
    "              (delayed(forecast_prophet)\\\n",
    "              (row['store_id'], row['dept_id']) for _, row in ts_ids.iterrows())"
   ]
  },
  {
   "cell_type": "code",
   "execution_count": null,
   "metadata": {},
   "outputs": [],
   "source": [
    "# retrieve forecasts\n",
    "forecast_df = pd.concat(res)\n",
    "forecast_df.head()"
   ]
  },
  {
   "cell_type": "markdown",
   "metadata": {},
   "source": [
    "## Format and save as external data"
   ]
  },
  {
   "cell_type": "code",
   "execution_count": null,
   "metadata": {},
   "outputs": [],
   "source": [
    "forecast_df = pd.pivot_table(forecast_df, index=['store_id', 'dept_id'], columns='d', values='yhat')\n",
    "forecast_df.columns = ['F' + str(int(c) + 1) for c in range(28)]\n",
    "forecast_df = forecast_df.reset_index()\n",
    "forecast_df.head()"
   ]
  },
  {
   "cell_type": "code",
   "execution_count": null,
   "metadata": {},
   "outputs": [],
   "source": [
    "forecast_df.to_csv(DATA_PATH + 'external/forecast_prophet_store_dpt_' + PERIOD_LABEL + '.csv', index=False)"
   ]
  }
 ],
 "metadata": {
  "kernelspec": {
   "display_name": "Python [conda env:m5_env] *",
   "language": "python",
   "name": "conda-env-m5_env-py"
  },
  "language_info": {
   "codemirror_mode": {
    "name": "ipython",
    "version": 3
   },
   "file_extension": ".py",
   "mimetype": "text/x-python",
   "name": "python",
   "nbconvert_exporter": "python",
   "pygments_lexer": "ipython3",
   "version": "3.7.6"
  }
 },
 "nbformat": 4,
 "nbformat_minor": 4
}
