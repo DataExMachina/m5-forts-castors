{
 "cells": [
  {
   "cell_type": "code",
   "execution_count": null,
   "metadata": {
    "colab": {},
    "colab_type": "code",
    "id": "rjyAbXwVOWny"
   },
   "outputs": [],
   "source": [
    "#from google.colab import drive\n",
    "#drive.mount('/content/drive/')"
   ]
  },
  {
   "cell_type": "code",
   "execution_count": null,
   "metadata": {
    "colab": {},
    "colab_type": "code",
    "id": "DHeWXHMqOnA-"
   },
   "outputs": [],
   "source": [
    "#!pip install fbprophet optuna --upgrade"
   ]
  },
  {
   "cell_type": "code",
   "execution_count": null,
   "metadata": {
    "colab": {},
    "colab_type": "code",
    "id": "Yg9IvDAgOUv8"
   },
   "outputs": [],
   "source": [
    "import pandas as pd\n",
    "import numpy as np\n",
    "import pickle\n",
    "\n",
    "import plotly.offline as py\n",
    "import optuna\n",
    "import json\n",
    "import datetime\n",
    "\n",
    "from joblib import Parallel, delayed\n",
    "from fbprophet import Prophet\n",
    "from fbprophet.plot import *\n",
    "from fbprophet.diagnostics import cross_validation\n",
    "from fbprophet.diagnostics import performance_metrics"
   ]
  },
  {
   "cell_type": "markdown",
   "metadata": {
    "colab_type": "text",
    "id": "qDaOXJN1OUwB"
   },
   "source": [
    "## Params"
   ]
  },
  {
   "cell_type": "code",
   "execution_count": null,
   "metadata": {
    "colab": {},
    "colab_type": "code",
    "id": "k8OQtTkbOUwB"
   },
   "outputs": [],
   "source": [
    "IS_EVAL = False\n",
    "DATA_PATH = '../data/' #'/content/drive/My Drive/data/'\n",
    "\n",
    "if IS_EVAL:\n",
    "    PERIOD_LABEL = 'evaluation'\n",
    "else:\n",
    "    PERIOD_LABEL = 'validation'"
   ]
  },
  {
   "cell_type": "markdown",
   "metadata": {
    "colab_type": "text",
    "id": "zmMSpw5nOUwE"
   },
   "source": [
    "## Load refined data"
   ]
  },
  {
   "cell_type": "code",
   "execution_count": null,
   "metadata": {
    "colab": {},
    "colab_type": "code",
    "id": "QXZlUVo-OUwE"
   },
   "outputs": [],
   "source": [
    "prophet_df = pd.read_pickle(DATA_PATH + 'refined/prophet_df_' + PERIOD_LABEL + '.pkl')"
   ]
  },
  {
   "cell_type": "markdown",
   "metadata": {
    "colab_type": "text",
    "id": "4dGH4DhrOUwG"
   },
   "source": [
    "## Define tuning function"
   ]
  },
  {
   "cell_type": "code",
   "execution_count": null,
   "metadata": {
    "colab": {},
    "colab_type": "code",
    "id": "xukVGleQOUwH"
   },
   "outputs": [],
   "source": [
    "def optimize_prophet(store_id, dept_id):\n",
    "    \n",
    "    # Reduce df on current\n",
    "    df = prophet_df.loc[(prophet_df['store_id'] == store_id) & (prophet_df['dept_id'] == dept_id)].copy()\n",
    "    df.dropna(inplace=True) # drop pred period (useless in tuning script)\n",
    "\n",
    "    def objective(trial):\n",
    "        # Define Space \n",
    "        params = {\n",
    "            'changepoint_range': trial.suggest_discrete_uniform('changepoint_range', 0.7, 1.0, 0.1),\n",
    "            'seasonality_mode': trial.suggest_categorical('seasonality_mode', ['additive', 'multiplicative']),\n",
    "            'seasonality_prior_scale': trial.suggest_loguniform('seasonality_prior_scale', 0.1, 20),\n",
    "            'holidays_prior_scale': trial.suggest_loguniform('holidays_prior_scale', 0.1, 20),\n",
    "            'changepoint_prior_scale': trial.suggest_loguniform('changepoint_prior_scale', 0.001, 1),\n",
    "            'yearly_order': trial.suggest_int('yearly_order', 1, 20),\n",
    "            'monthly_order': trial.suggest_int('monthly_order', 1, 20),\n",
    "            'weekly_order': trial.suggest_int('weekly_order', 1, 20),\n",
    "            'snap_mode': trial.suggest_categorical('snap_mode', ['additive', 'multiplicative'])\n",
    "        }\n",
    "        \n",
    "        # Define model\n",
    "        m = Prophet(\n",
    "            yearly_seasonality=False,\n",
    "            weekly_seasonality=False,\n",
    "            daily_seasonality=False,\n",
    "            uncertainty_samples=False,\n",
    "            changepoint_range=params['changepoint_range'],\n",
    "            seasonality_mode=params['seasonality_mode'],\n",
    "            seasonality_prior_scale=params['seasonality_prior_scale'],\n",
    "            holidays_prior_scale=params['holidays_prior_scale'],\n",
    "            changepoint_prior_scale=params['changepoint_prior_scale'],\n",
    "        )\n",
    "        \n",
    "        m.add_seasonality(\n",
    "            name='yearly', \n",
    "            period=365.25, \n",
    "            fourier_order=params['yearly_order'],\n",
    "        )\n",
    "        \n",
    "        m.add_seasonality(\n",
    "            name='monthly', \n",
    "            period=365.25/12, \n",
    "            fourier_order=params['monthly_order'],\n",
    "        )\n",
    "        \n",
    "        m.add_seasonality(\n",
    "            name='weekly', \n",
    "            period=7, \n",
    "            fourier_order=params['weekly_order'],\n",
    "        )\n",
    "        \n",
    "        # Add holidays/regressor\n",
    "        m.add_country_holidays(country_name='US')\n",
    "    \n",
    "        m.add_regressor('snap', mode=params['snap_mode'])\n",
    "            \n",
    "        m.add_regressor('price')\n",
    "                    \n",
    "        # Fit \n",
    "        m.fit(df)\n",
    "        \n",
    "        # TS validation\n",
    "        initial = str(df['d'].max() - 28 - 1) + ' days' # only one cutoff to validate\n",
    "        df_cv = cross_validation(m, horizon='28 days', period='28 days', initial=initial)\n",
    "        \n",
    "        # Calculate Error\n",
    "        score = np.mean(np.square(df_cv['y'] - df_cv['yhat']))\n",
    "        scale = np.mean(np.square(np.diff(df['y'].values[:-28]).astype(np.float32)))\n",
    "        rmsse = np.sqrt(score / scale)\n",
    "        \n",
    "        return rmsse\n",
    "    \n",
    "    study = optuna.create_study(direction=\"minimize\")\n",
    "    study.optimize(objective, n_trials=100)\n",
    "    \n",
    "    return study.best_value, study.best_params"
   ]
  },
  {
   "cell_type": "markdown",
   "metadata": {
    "colab_type": "text",
    "id": "MQ6SrtnaOUwK"
   },
   "source": [
    "## Tune all series in parallel"
   ]
  },
  {
   "cell_type": "code",
   "execution_count": null,
   "metadata": {
    "colab": {},
    "colab_type": "code",
    "id": "c4V6s1gGOUwK"
   },
   "outputs": [],
   "source": [
    "ts_ids = prophet_df[['store_id', 'dept_id']].drop_duplicates().reset_index(drop=True)\n",
    "len(ts_ids)"
   ]
  },
  {
   "cell_type": "code",
   "execution_count": null,
   "metadata": {
    "colab": {},
    "colab_type": "code",
    "id": "ydsEfElGOUwN"
   },
   "outputs": [],
   "source": [
    "opt = Parallel(n_jobs=-1, verbose=1)\\\n",
    "              (delayed(optimize_prophet)(row['store_id'], row['dept_id']) for _, row in ts_ids.iterrows())"
   ]
  },
  {
   "cell_type": "markdown",
   "metadata": {
    "colab_type": "text",
    "id": "HYZM60pBOUwR"
   },
   "source": [
    "## Format & save outpus"
   ]
  },
  {
   "cell_type": "code",
   "execution_count": null,
   "metadata": {
    "colab": {},
    "colab_type": "code",
    "id": "ayR6FFY3OUwP"
   },
   "outputs": [],
   "source": [
    "prophet_params = pd.DataFrame(opt).rename(columns={0 : 'rmsse', 1 : 'params'})\n",
    "prophet_params = pd.concat([ts_ids, prophet_params], axis=1)"
   ]
  },
  {
   "cell_type": "code",
   "execution_count": null,
   "metadata": {
    "colab": {},
    "colab_type": "code",
    "id": "_FPbfPa5OUwS"
   },
   "outputs": [],
   "source": [
    "dt = datetime.datetime.now().isoformat(\"-\").split(\".\")[0].replace(\":\",\"-\")\n",
    "\n",
    "prophet_params.to_csv(DATA_PATH + 'external/params_prophet_store_dpt_' + PERIOD_LABEL + '_' + dt + '.csv', \n",
    "                      index=False)"
   ]
  }
 ],
 "metadata": {
  "colab": {
   "collapsed_sections": [],
   "name": "prophet_store_dpt_tuning.ipynb",
   "provenance": []
  },
  "kernelspec": {
   "display_name": "Python [conda env:m5_env] *",
   "language": "python",
   "name": "conda-env-m5_env-py"
  },
  "language_info": {
   "codemirror_mode": {
    "name": "ipython",
    "version": 3
   },
   "file_extension": ".py",
   "mimetype": "text/x-python",
   "name": "python",
   "nbconvert_exporter": "python",
   "pygments_lexer": "ipython3",
   "version": "3.7.6"
  }
 },
 "nbformat": 4,
 "nbformat_minor": 1
}
