{
 "cells": [
  {
   "cell_type": "code",
   "execution_count": null,
   "metadata": {},
   "outputs": [],
   "source": [
    "import numpy as np\n",
    "import pandas as pd\n",
    "from functools import reduce\n",
    "import pickle\n",
    "\n",
    "%matplotlib inline"
   ]
  },
  {
   "cell_type": "markdown",
   "metadata": {},
   "source": [
    "## Params"
   ]
  },
  {
   "cell_type": "code",
   "execution_count": null,
   "metadata": {},
   "outputs": [],
   "source": [
    "ENS_LEVEL_KEYS = ['store_id', 'dept_id']\n",
    "\n",
    "LIST_ALGO = ['lgb_estim', \n",
    "             'tf_estim', \n",
    "             'Prophet_store_dpt_lgb_weights']\n",
    "\n",
    "OUTPUT_NAME = 'lgb_tf_prophet_ensembling'"
   ]
  },
  {
   "cell_type": "markdown",
   "metadata": {},
   "source": [
    "## Load usefull data"
   ]
  },
  {
   "cell_type": "code",
   "execution_count": null,
   "metadata": {},
   "outputs": [],
   "source": [
    "ids = pd.read_csv('data/raw/sales_train_evaluation.csv')\n",
    "ids = ids[['id', 'item_id', 'dept_id', 'cat_id', 'store_id', 'state_id']]"
   ]
  },
  {
   "cell_type": "code",
   "execution_count": null,
   "metadata": {},
   "outputs": [],
   "source": [
    "f = open('data/external/weights_' + OUTPUT_NAME + '.pkl', 'rb')\n",
    "weights_dict = pickle.load(f)\n",
    "f.close()"
   ]
  },
  {
   "cell_type": "markdown",
   "metadata": {},
   "source": [
    "## Load and melt forecast files"
   ]
  },
  {
   "cell_type": "code",
   "execution_count": null,
   "metadata": {},
   "outputs": [],
   "source": [
    "melted_df = []\n",
    "\n",
    "for algo in LIST_ALGO:\n",
    "    df = pd.read_csv('data/submission/' + algo + '_evaluation.csv')\n",
    "    df_melt = pd.melt(df[df['id'].str.contains('evaluation')], id_vars='id', value_name=algo)\n",
    "    melted_df.append(df_melt)"
   ]
  },
  {
   "cell_type": "code",
   "execution_count": null,
   "metadata": {},
   "outputs": [],
   "source": [
    "melted_df = pd.merge(ids, reduce(pd.merge, melted_df))"
   ]
  },
  {
   "cell_type": "markdown",
   "metadata": {},
   "source": [
    "## Calculate ensembling weights & apply them"
   ]
  },
  {
   "cell_type": "code",
   "execution_count": null,
   "metadata": {},
   "outputs": [],
   "source": [
    "list_ensemble = list()\n",
    "\n",
    "for _, gp in melted_df.groupby(ENS_LEVEL_KEYS):\n",
    "    \n",
    "    w = weights_dict[_]\n",
    "    gp['ensemble'] = gp[LIST_ALGO].values.dot(w)\n",
    "    list_ensemble.append(gp)\n",
    "\n",
    "ensemble_eval = pd.concat(list_ensemble)\n",
    "ensemble_eval['ensemble'].clip(0, inplace=True)\n",
    "ensemble_eval.head()"
   ]
  },
  {
   "cell_type": "markdown",
   "metadata": {},
   "source": [
    "## Format outputs"
   ]
  },
  {
   "cell_type": "code",
   "execution_count": null,
   "metadata": {},
   "outputs": [],
   "source": [
    "ensemble_eval = ensemble_eval.pivot_table(index=['id'], columns=['variable'], values=['ensemble']).reset_index()\n",
    "ensemble_eval.columns = [c[0] if c[1]=='' else c[1] for c in ensemble_eval.columns.tolist()]\n",
    "ensemble_eval = ensemble_eval[['id'] + ['F%s' % c for c in range(1,29)]]\n",
    "ensemble_eval.head()"
   ]
  },
  {
   "cell_type": "markdown",
   "metadata": {},
   "source": [
    "## Merge with validation & save evaluation outputs"
   ]
  },
  {
   "cell_type": "code",
   "execution_count": null,
   "metadata": {},
   "outputs": [],
   "source": [
    "ensemble_val = pd.read_csv('data/submission/' + OUTPUT_NAME + '_validation.csv')\n",
    "ensemble_eval = pd.concat([ensemble_val, ensemble_eval], axis=0)"
   ]
  },
  {
   "cell_type": "code",
   "execution_count": null,
   "metadata": {},
   "outputs": [],
   "source": [
    "ensemble_eval.to_csv('data/submission/' + OUTPUT_NAME + '_evaluation.csv', index=False)"
   ]
  }
 ],
 "metadata": {
  "kernelspec": {
   "display_name": "Python 3",
   "language": "python",
   "name": "python3"
  },
  "language_info": {
   "codemirror_mode": {
    "name": "ipython",
    "version": 3
   },
   "file_extension": ".py",
   "mimetype": "text/x-python",
   "name": "python",
   "nbconvert_exporter": "python",
   "pygments_lexer": "ipython3",
   "version": "3.7.6"
  }
 },
 "nbformat": 4,
 "nbformat_minor": 4
}
