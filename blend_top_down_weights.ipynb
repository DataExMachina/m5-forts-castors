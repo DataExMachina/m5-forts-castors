{
 "cells": [
  {
   "cell_type": "code",
   "execution_count": 1,
   "metadata": {},
   "outputs": [],
   "source": [
    "import pandas as pd\n",
    "\n",
    "DATA_PATH = 'data/'\n",
    "PERIOD_LABEL = 'validation'"
   ]
  },
  {
   "cell_type": "code",
   "execution_count": 30,
   "metadata": {},
   "outputs": [],
   "source": [
    "w_weights = [0.5, 0.5]\n",
    "w_list = list()\n",
    "\n",
    "for w_file in ['lgb_weights', 'tf_weights']:\n",
    "    w_list.append(pd.read_csv(DATA_PATH + 'external/' + w_file + '_' + PERIOD_LABEL + '.csv')\\\n",
    "                  .query('id.str.contains(\"%s\")' % PERIOD_LABEL).sort_values('id'))\n",
    "\n",
    "final_weights = pd.concat([\n",
    "    w_list[0]['id'].reset_index(drop=True),\n",
    "    pd.DataFrame((w_list[0].iloc[:,1:]*w_weights[0]).values + (w_list[1].iloc[:,1:]*w_weights[1]).values,\n",
    "                 columns=['F%s' % c for c in range(1,29)]).reset_index(drop=True)], axis=1)"
   ]
  },
  {
   "cell_type": "code",
   "execution_count": 33,
   "metadata": {},
   "outputs": [],
   "source": [
    "final_weights.to_csv(DATA_PATH + 'external/' + 'final_weights' + '_' + PERIOD_LABEL + '.csv', index=False)"
   ]
  }
 ],
 "metadata": {
  "kernelspec": {
   "display_name": "Python 3",
   "language": "python",
   "name": "python3"
  },
  "language_info": {
   "codemirror_mode": {
    "name": "ipython",
    "version": 3
   },
   "file_extension": ".py",
   "mimetype": "text/x-python",
   "name": "python",
   "nbconvert_exporter": "python",
   "pygments_lexer": "ipython3",
   "version": "3.6.10"
  }
 },
 "nbformat": 4,
 "nbformat_minor": 4
}
