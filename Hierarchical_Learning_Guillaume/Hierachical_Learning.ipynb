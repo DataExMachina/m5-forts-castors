{
  "nbformat": 4,
  "nbformat_minor": 0,
  "metadata": {
    "colab": {
      "name": "Hierachical-Learning.ipynb",
      "provenance": []
    },
    "kernelspec": {
      "name": "python3",
      "display_name": "Python 3"
    }
  },
  "cells": [
    {
      "cell_type": "code",
      "metadata": {
        "id": "voQPcQtPVJEq",
        "colab_type": "code",
        "colab": {}
      },
      "source": [
        "#!pip install optuna"
      ],
      "execution_count": 0,
      "outputs": []
    },
    {
      "cell_type": "code",
      "metadata": {
        "id": "_Kz_ENn5iICm",
        "colab_type": "code",
        "colab": {
          "base_uri": "https://localhost:8080/",
          "height": 71
        },
        "outputId": "abd739c4-b95f-4845-a8e1-34131dab64f3"
      },
      "source": [
        "import numpy as np \n",
        "import pandas as pd \n",
        "import pickle\n",
        "from math import ceil\n",
        "import functools\n",
        "\n",
        "import seaborn as sns\n",
        "import matplotlib.pyplot as plt\n",
        "plt.style.use('fivethirtyeight')\n"
      ],
      "execution_count": 11,
      "outputs": [
        {
          "output_type": "stream",
          "text": [
            "/usr/local/lib/python3.6/dist-packages/statsmodels/tools/_testing.py:19: FutureWarning: pandas.util.testing is deprecated. Use the functions in the public API at pandas.testing instead.\n",
            "  import pandas.util.testing as tm\n"
          ],
          "name": "stderr"
        }
      ]
    },
    {
      "cell_type": "code",
      "metadata": {
        "id": "RKnqqOZRWffb",
        "colab_type": "code",
        "colab": {
          "base_uri": "https://localhost:8080/",
          "height": 51
        },
        "outputId": "dbe7b98f-09be-4ffd-e3dd-efc3793ba92f"
      },
      "source": [
        "from google.colab import drive\n",
        "drive.mount('/gdrive')\n",
        "%cd /gdrive\n",
        "\n",
        "gdir = '/gdrive/My Drive/m5data/'"
      ],
      "execution_count": 12,
      "outputs": [
        {
          "output_type": "stream",
          "text": [
            "Drive already mounted at /gdrive; to attempt to forcibly remount, call drive.mount(\"/gdrive\", force_remount=True).\n",
            "/gdrive\n"
          ],
          "name": "stdout"
        }
      ]
    },
    {
      "cell_type": "code",
      "metadata": {
        "id": "M7YETFRYgfLu",
        "colab_type": "code",
        "colab": {}
      },
      "source": [
        ""
      ],
      "execution_count": 0,
      "outputs": []
    },
    {
      "cell_type": "markdown",
      "metadata": {
        "id": "IxHe6TJfjtHf",
        "colab_type": "text"
      },
      "source": [
        " \n",
        "# Step 1: Feature engineering for hierarchical learning\n",
        "\n",
        "---\n"
      ]
    },
    {
      "cell_type": "markdown",
      "metadata": {
        "id": "4J_D8Hl5jo3H",
        "colab_type": "text"
      },
      "source": [
        "Fist step: feature engineering on total sales in the category for a product "
      ]
    },
    {
      "cell_type": "code",
      "metadata": {
        "id": "5U8N8ICZgqyN",
        "colab_type": "code",
        "colab": {}
      },
      "source": [
        "# Starting point : run the notebook \"data_prep\" by Antoine to make simple feature engineering \"grid_df.pkl\""
      ],
      "execution_count": 0,
      "outputs": []
    },
    {
      "cell_type": "code",
      "metadata": {
        "id": "LKATHRwmgWAF",
        "colab_type": "code",
        "colab": {}
      },
      "source": [
        "# Merging by concat to not lose dtypes\n",
        "def merge_by_concat(df1, df2, merge_on):\n",
        "    merged_gf = df1[merge_on]\n",
        "    merged_gf = merged_gf.merge(df2, on=merge_on, how='left')\n",
        "    new_columns = [col for col in list(merged_gf) if col not in merge_on]\n",
        "    df1 = pd.concat([df1, merged_gf[new_columns]], axis=1)\n",
        "    return df1\n"
      ],
      "execution_count": 0,
      "outputs": []
    },
    {
      "cell_type": "code",
      "metadata": {
        "id": "OAXoCentgnQ6",
        "colab_type": "code",
        "colab": {}
      },
      "source": [
        "df = pd.read_pickle(gdir+\"grid_df.pkl\")"
      ],
      "execution_count": 0,
      "outputs": []
    },
    {
      "cell_type": "code",
      "metadata": {
        "id": "VHOM5wbQiU-W",
        "colab_type": "code",
        "colab": {}
      },
      "source": [
        "count_store_dept_by_date = df.groupby(['store_id','dept_id', 'd'])['sales'].sum()"
      ],
      "execution_count": 0,
      "outputs": []
    },
    {
      "cell_type": "code",
      "metadata": {
        "id": "xFMuWcupiVx1",
        "colab_type": "code",
        "colab": {}
      },
      "source": [
        "df_store_dept = count_store_dept_by_date.to_frame().reset_index()"
      ],
      "execution_count": 0,
      "outputs": []
    },
    {
      "cell_type": "code",
      "metadata": {
        "id": "ZmDXNKXRiWGM",
        "colab_type": "code",
        "colab": {}
      },
      "source": [
        "df_store_dept.rename(columns = {'sales':'agg_sales_store_dept'}, inplace = True)"
      ],
      "execution_count": 0,
      "outputs": []
    },
    {
      "cell_type": "code",
      "metadata": {
        "id": "vlL3zjc3ih9n",
        "colab_type": "code",
        "colab": {}
      },
      "source": [
        "#merging the aggregated total sales by store departement to the dataframe"
      ],
      "execution_count": 0,
      "outputs": []
    },
    {
      "cell_type": "code",
      "metadata": {
        "id": "RpetXM2MiWSR",
        "colab_type": "code",
        "colab": {}
      },
      "source": [
        "df3 = merge_by_concat(df, df_store_dept,['store_id', 'dept_id', 'd'])"
      ],
      "execution_count": 0,
      "outputs": []
    },
    {
      "cell_type": "code",
      "metadata": {
        "id": "aw9JqH5iiWOo",
        "colab_type": "code",
        "colab": {}
      },
      "source": [
        "df3['product_share']=df3['sales']/df3['agg_sales_store_dept']*100."
      ],
      "execution_count": 0,
      "outputs": []
    },
    {
      "cell_type": "code",
      "metadata": {
        "id": "CJsBgAKfiWDk",
        "colab_type": "code",
        "colab": {}
      },
      "source": [
        "grid_df = df3"
      ],
      "execution_count": 0,
      "outputs": []
    },
    {
      "cell_type": "code",
      "metadata": {
        "id": "Rqmj6JHPi7hh",
        "colab_type": "code",
        "colab": {}
      },
      "source": [
        "#Feature engineering"
      ],
      "execution_count": 0,
      "outputs": []
    },
    {
      "cell_type": "code",
      "metadata": {
        "id": "pjAAmwtkiV-E",
        "colab_type": "code",
        "colab": {}
      },
      "source": [
        "# delete some cols first (we're going to recreate some cleaner ones)\n",
        "grid_df.drop(columns=['wm_yr_wk', 'weekday', 'wday', 'month', 'year'], inplace=True)\n",
        "\n",
        "# Make some features from date\n",
        "grid_df['dow'] = grid_df['date'].dt.dayofweek.astype(np.int8)\n",
        "grid_df['dom'] = grid_df['date'].dt.day.astype(np.int8)\n",
        "grid_df['month'] = grid_df['date'].dt.month.astype(np.int8)\n",
        "grid_df['week'] = grid_df['date'].dt.week.astype(np.int8)\n",
        "grid_df['wom'] = grid_df['dom'].apply(lambda x: ceil(x / 7)).astype(np.int8)\n",
        "grid_df['quarter'] = grid_df['date'].dt.quarter.astype(np.int8)\n",
        "grid_df['year'] = grid_df['date'].dt.year.astype(np.int16)\n",
        "\n",
        "# And other ones\n",
        "grid_df['is_week_end'] = (grid_df['dow'] >= 5).astype('category')\n",
        "grid_df['age'] = (grid_df.groupby('id').cumcount() + 1).astype(np.int16)\n",
        "\n",
        "# delete date\n",
        "grid_df.drop(columns=['date'], inplace=True)"
      ],
      "execution_count": 0,
      "outputs": []
    },
    {
      "cell_type": "code",
      "metadata": {
        "id": "D8gTYnNIiV7Y",
        "colab_type": "code",
        "colab": {}
      },
      "source": [
        "# one hot encode cat_id, store_id\n",
        "grid_df = pd.get_dummies(data=grid_df, columns=['cat_id', 'store_id'])"
      ],
      "execution_count": 0,
      "outputs": []
    },
    {
      "cell_type": "code",
      "metadata": {
        "id": "g4sRNiNNiV4x",
        "colab_type": "code",
        "colab": {}
      },
      "source": [
        "#saving to pickle for faster reuse:\n",
        "grid_df.to_pickle(gdir+'grid_df_gho.pkl')"
      ],
      "execution_count": 0,
      "outputs": []
    },
    {
      "cell_type": "markdown",
      "metadata": {
        "id": "GfZGvJMlkC7h",
        "colab_type": "text"
      },
      "source": [
        " \n",
        "# Step 2: Hierarchical learning\n",
        "\n",
        "---\n"
      ]
    },
    {
      "cell_type": "code",
      "metadata": {
        "id": "8LhSxidiWpJS",
        "colab_type": "code",
        "colab": {}
      },
      "source": [
        "#start of hierarchical learning"
      ],
      "execution_count": 0,
      "outputs": []
    },
    {
      "cell_type": "code",
      "metadata": {
        "id": "SCMyIefhV9_-",
        "colab_type": "code",
        "colab": {}
      },
      "source": [
        "from sklearn.metrics import mean_squared_error, mean_absolute_error\n",
        "import optuna\n",
        "import optuna.integration.lightgbm as lgb"
      ],
      "execution_count": 0,
      "outputs": []
    },
    {
      "cell_type": "code",
      "metadata": {
        "id": "LJmhvP5kWKGc",
        "colab_type": "code",
        "colab": {}
      },
      "source": [
        "def reduce_mem_usage(df):\n",
        "    \"\"\" iterate through all the columns of a dataframe and modify the data type\n",
        "        to reduce memory usage.        \n",
        "    \"\"\"\n",
        "    start_mem = df.memory_usage().sum() / 1024**2\n",
        "    print('Memory usage of dataframe is {:.2f} MB'.format(start_mem))\n",
        "    \n",
        "    for col in df.columns:\n",
        "        col_type = df[col].dtype\n",
        "        \n",
        "        if col_type != object:\n",
        "            c_min = df[col].min()\n",
        "            c_max = df[col].max()\n",
        "            if str(col_type)[:3] == 'int':\n",
        "                if c_min > np.iinfo(np.int8).min and c_max < np.iinfo(np.int8).max:\n",
        "                    df[col] = df[col].astype(np.int8)\n",
        "                elif c_min > np.iinfo(np.int16).min and c_max < np.iinfo(np.int16).max:\n",
        "                    df[col] = df[col].astype(np.int16)\n",
        "                elif c_min > np.iinfo(np.int32).min and c_max < np.iinfo(np.int32).max:\n",
        "                    df[col] = df[col].astype(np.int32)\n",
        "                elif c_min > np.iinfo(np.int64).min and c_max < np.iinfo(np.int64).max:\n",
        "                    df[col] = df[col].astype(np.int64)  \n",
        "            else:\n",
        "                if c_min > np.finfo(np.float16).min and c_max < np.finfo(np.float16).max:\n",
        "                    df[col] = df[col].astype(np.float16)\n",
        "                elif c_min > np.finfo(np.float32).min and c_max < np.finfo(np.float32).max:\n",
        "                    df[col] = df[col].astype(np.float32)\n",
        "                else:\n",
        "                    df[col] = df[col].astype(np.float64)\n",
        "        else:\n",
        "            df[col] = df[col].astype('category')\n",
        "\n",
        "    end_mem = df.memory_usage().sum() / 1024**2\n",
        "    print('Memory usage after optimization is: {:.2f} MB'.format(end_mem))\n",
        "    print('Decreased by {:.1f}%'.format(100 * (start_mem - end_mem) / start_mem))\n",
        "    \n",
        "    return df\n"
      ],
      "execution_count": 0,
      "outputs": []
    },
    {
      "cell_type": "code",
      "metadata": {
        "id": "6Ko63SvsWVC4",
        "colab_type": "code",
        "colab": {}
      },
      "source": [
        "#load prepared data"
      ],
      "execution_count": 0,
      "outputs": []
    },
    {
      "cell_type": "code",
      "metadata": {
        "id": "71oSoLNMWORi",
        "colab_type": "code",
        "colab": {}
      },
      "source": [
        "df = pd.read_pickle(gdir+'grid_df_gho.pkl')"
      ],
      "execution_count": 0,
      "outputs": []
    },
    {
      "cell_type": "code",
      "metadata": {
        "id": "sTrJo8YjXFod",
        "colab_type": "code",
        "colab": {
          "base_uri": "https://localhost:8080/",
          "height": 224
        },
        "outputId": "954b2a30-4c74-4850-f606-1e5fba8661f4"
      },
      "source": [
        "df.head()"
      ],
      "execution_count": 35,
      "outputs": [
        {
          "output_type": "execute_result",
          "data": {
            "text/html": [
              "<div>\n",
              "<style scoped>\n",
              "    .dataframe tbody tr th:only-of-type {\n",
              "        vertical-align: middle;\n",
              "    }\n",
              "\n",
              "    .dataframe tbody tr th {\n",
              "        vertical-align: top;\n",
              "    }\n",
              "\n",
              "    .dataframe thead th {\n",
              "        text-align: right;\n",
              "    }\n",
              "</style>\n",
              "<table border=\"1\" class=\"dataframe\">\n",
              "  <thead>\n",
              "    <tr style=\"text-align: right;\">\n",
              "      <th></th>\n",
              "      <th>id</th>\n",
              "      <th>item_id</th>\n",
              "      <th>dept_id</th>\n",
              "      <th>state_id</th>\n",
              "      <th>d</th>\n",
              "      <th>sales</th>\n",
              "      <th>event_name_1</th>\n",
              "      <th>event_type_1</th>\n",
              "      <th>event_name_2</th>\n",
              "      <th>event_type_2</th>\n",
              "      <th>snap_CA</th>\n",
              "      <th>snap_TX</th>\n",
              "      <th>snap_WI</th>\n",
              "      <th>sell_price</th>\n",
              "      <th>agg_sales_store_dept</th>\n",
              "      <th>product_share</th>\n",
              "      <th>dow</th>\n",
              "      <th>dom</th>\n",
              "      <th>month</th>\n",
              "      <th>week</th>\n",
              "      <th>wom</th>\n",
              "      <th>quarter</th>\n",
              "      <th>year</th>\n",
              "      <th>is_week_end</th>\n",
              "      <th>age</th>\n",
              "      <th>cat_id_FOODS</th>\n",
              "      <th>cat_id_HOBBIES</th>\n",
              "      <th>cat_id_HOUSEHOLD</th>\n",
              "      <th>store_id_CA_1</th>\n",
              "      <th>store_id_CA_2</th>\n",
              "      <th>store_id_CA_3</th>\n",
              "      <th>store_id_CA_4</th>\n",
              "      <th>store_id_TX_1</th>\n",
              "      <th>store_id_TX_2</th>\n",
              "      <th>store_id_TX_3</th>\n",
              "      <th>store_id_WI_1</th>\n",
              "      <th>store_id_WI_2</th>\n",
              "      <th>store_id_WI_3</th>\n",
              "    </tr>\n",
              "  </thead>\n",
              "  <tbody>\n",
              "    <tr>\n",
              "      <th>0</th>\n",
              "      <td>HOBBIES_1_001_CA_1_validation</td>\n",
              "      <td>HOBBIES_1_001</td>\n",
              "      <td>HOBBIES_1</td>\n",
              "      <td>CA</td>\n",
              "      <td>897</td>\n",
              "      <td>0.0</td>\n",
              "      <td>None</td>\n",
              "      <td>None</td>\n",
              "      <td>None</td>\n",
              "      <td>None</td>\n",
              "      <td>0</td>\n",
              "      <td>1</td>\n",
              "      <td>0</td>\n",
              "      <td>9.58</td>\n",
              "      <td>497.0</td>\n",
              "      <td>0.0</td>\n",
              "      <td>5</td>\n",
              "      <td>13</td>\n",
              "      <td>7</td>\n",
              "      <td>28</td>\n",
              "      <td>2</td>\n",
              "      <td>3</td>\n",
              "      <td>2013</td>\n",
              "      <td>True</td>\n",
              "      <td>1</td>\n",
              "      <td>0</td>\n",
              "      <td>1</td>\n",
              "      <td>0</td>\n",
              "      <td>1</td>\n",
              "      <td>0</td>\n",
              "      <td>0</td>\n",
              "      <td>0</td>\n",
              "      <td>0</td>\n",
              "      <td>0</td>\n",
              "      <td>0</td>\n",
              "      <td>0</td>\n",
              "      <td>0</td>\n",
              "      <td>0</td>\n",
              "    </tr>\n",
              "    <tr>\n",
              "      <th>1</th>\n",
              "      <td>HOBBIES_1_001_CA_1_validation</td>\n",
              "      <td>HOBBIES_1_001</td>\n",
              "      <td>HOBBIES_1</td>\n",
              "      <td>CA</td>\n",
              "      <td>898</td>\n",
              "      <td>0.0</td>\n",
              "      <td>None</td>\n",
              "      <td>None</td>\n",
              "      <td>None</td>\n",
              "      <td>None</td>\n",
              "      <td>0</td>\n",
              "      <td>0</td>\n",
              "      <td>1</td>\n",
              "      <td>9.58</td>\n",
              "      <td>673.0</td>\n",
              "      <td>0.0</td>\n",
              "      <td>6</td>\n",
              "      <td>14</td>\n",
              "      <td>7</td>\n",
              "      <td>28</td>\n",
              "      <td>2</td>\n",
              "      <td>3</td>\n",
              "      <td>2013</td>\n",
              "      <td>True</td>\n",
              "      <td>2</td>\n",
              "      <td>0</td>\n",
              "      <td>1</td>\n",
              "      <td>0</td>\n",
              "      <td>1</td>\n",
              "      <td>0</td>\n",
              "      <td>0</td>\n",
              "      <td>0</td>\n",
              "      <td>0</td>\n",
              "      <td>0</td>\n",
              "      <td>0</td>\n",
              "      <td>0</td>\n",
              "      <td>0</td>\n",
              "      <td>0</td>\n",
              "    </tr>\n",
              "    <tr>\n",
              "      <th>2</th>\n",
              "      <td>HOBBIES_1_001_CA_1_validation</td>\n",
              "      <td>HOBBIES_1_001</td>\n",
              "      <td>HOBBIES_1</td>\n",
              "      <td>CA</td>\n",
              "      <td>899</td>\n",
              "      <td>0.0</td>\n",
              "      <td>None</td>\n",
              "      <td>None</td>\n",
              "      <td>None</td>\n",
              "      <td>None</td>\n",
              "      <td>0</td>\n",
              "      <td>1</td>\n",
              "      <td>1</td>\n",
              "      <td>9.58</td>\n",
              "      <td>400.0</td>\n",
              "      <td>0.0</td>\n",
              "      <td>0</td>\n",
              "      <td>15</td>\n",
              "      <td>7</td>\n",
              "      <td>29</td>\n",
              "      <td>3</td>\n",
              "      <td>3</td>\n",
              "      <td>2013</td>\n",
              "      <td>False</td>\n",
              "      <td>3</td>\n",
              "      <td>0</td>\n",
              "      <td>1</td>\n",
              "      <td>0</td>\n",
              "      <td>1</td>\n",
              "      <td>0</td>\n",
              "      <td>0</td>\n",
              "      <td>0</td>\n",
              "      <td>0</td>\n",
              "      <td>0</td>\n",
              "      <td>0</td>\n",
              "      <td>0</td>\n",
              "      <td>0</td>\n",
              "      <td>0</td>\n",
              "    </tr>\n",
              "    <tr>\n",
              "      <th>3</th>\n",
              "      <td>HOBBIES_1_001_CA_1_validation</td>\n",
              "      <td>HOBBIES_1_001</td>\n",
              "      <td>HOBBIES_1</td>\n",
              "      <td>CA</td>\n",
              "      <td>900</td>\n",
              "      <td>0.0</td>\n",
              "      <td>None</td>\n",
              "      <td>None</td>\n",
              "      <td>None</td>\n",
              "      <td>None</td>\n",
              "      <td>0</td>\n",
              "      <td>0</td>\n",
              "      <td>0</td>\n",
              "      <td>9.58</td>\n",
              "      <td>424.0</td>\n",
              "      <td>0.0</td>\n",
              "      <td>1</td>\n",
              "      <td>16</td>\n",
              "      <td>7</td>\n",
              "      <td>29</td>\n",
              "      <td>3</td>\n",
              "      <td>3</td>\n",
              "      <td>2013</td>\n",
              "      <td>False</td>\n",
              "      <td>4</td>\n",
              "      <td>0</td>\n",
              "      <td>1</td>\n",
              "      <td>0</td>\n",
              "      <td>1</td>\n",
              "      <td>0</td>\n",
              "      <td>0</td>\n",
              "      <td>0</td>\n",
              "      <td>0</td>\n",
              "      <td>0</td>\n",
              "      <td>0</td>\n",
              "      <td>0</td>\n",
              "      <td>0</td>\n",
              "      <td>0</td>\n",
              "    </tr>\n",
              "    <tr>\n",
              "      <th>4</th>\n",
              "      <td>HOBBIES_1_001_CA_1_validation</td>\n",
              "      <td>HOBBIES_1_001</td>\n",
              "      <td>HOBBIES_1</td>\n",
              "      <td>CA</td>\n",
              "      <td>901</td>\n",
              "      <td>0.0</td>\n",
              "      <td>None</td>\n",
              "      <td>None</td>\n",
              "      <td>None</td>\n",
              "      <td>None</td>\n",
              "      <td>0</td>\n",
              "      <td>0</td>\n",
              "      <td>0</td>\n",
              "      <td>9.58</td>\n",
              "      <td>345.0</td>\n",
              "      <td>0.0</td>\n",
              "      <td>2</td>\n",
              "      <td>17</td>\n",
              "      <td>7</td>\n",
              "      <td>29</td>\n",
              "      <td>3</td>\n",
              "      <td>3</td>\n",
              "      <td>2013</td>\n",
              "      <td>False</td>\n",
              "      <td>5</td>\n",
              "      <td>0</td>\n",
              "      <td>1</td>\n",
              "      <td>0</td>\n",
              "      <td>1</td>\n",
              "      <td>0</td>\n",
              "      <td>0</td>\n",
              "      <td>0</td>\n",
              "      <td>0</td>\n",
              "      <td>0</td>\n",
              "      <td>0</td>\n",
              "      <td>0</td>\n",
              "      <td>0</td>\n",
              "      <td>0</td>\n",
              "    </tr>\n",
              "  </tbody>\n",
              "</table>\n",
              "</div>"
            ],
            "text/plain": [
              "                              id        item_id  ... store_id_WI_2 store_id_WI_3\n",
              "0  HOBBIES_1_001_CA_1_validation  HOBBIES_1_001  ...             0             0\n",
              "1  HOBBIES_1_001_CA_1_validation  HOBBIES_1_001  ...             0             0\n",
              "2  HOBBIES_1_001_CA_1_validation  HOBBIES_1_001  ...             0             0\n",
              "3  HOBBIES_1_001_CA_1_validation  HOBBIES_1_001  ...             0             0\n",
              "4  HOBBIES_1_001_CA_1_validation  HOBBIES_1_001  ...             0             0\n",
              "\n",
              "[5 rows x 38 columns]"
            ]
          },
          "metadata": {
            "tags": []
          },
          "execution_count": 35
        }
      ]
    },
    {
      "cell_type": "code",
      "metadata": {
        "id": "NxAmTD3ZXmei",
        "colab_type": "code",
        "colab": {}
      },
      "source": [
        "#dropping some features"
      ],
      "execution_count": 0,
      "outputs": []
    },
    {
      "cell_type": "code",
      "metadata": {
        "id": "D0bGklnKXZCQ",
        "colab_type": "code",
        "colab": {}
      },
      "source": [
        "def drop_features(dfx):\n",
        "    dfx.drop(columns=['id', \n",
        "                           'item_id',\n",
        "                           'event_name_1', \n",
        "                           'event_type_1', \n",
        "                           'event_name_2', \n",
        "                           'event_type_2',\n",
        "                           'sales', \n",
        "                           'dept_id', \n",
        "                      'state_id',], inplace=True)\n",
        "    return dfx"
      ],
      "execution_count": 0,
      "outputs": []
    },
    {
      "cell_type": "code",
      "metadata": {
        "id": "yqm3raklXkkI",
        "colab_type": "code",
        "colab": {}
      },
      "source": [
        "df = drop_features(df)"
      ],
      "execution_count": 0,
      "outputs": []
    },
    {
      "cell_type": "code",
      "metadata": {
        "id": "TR-C7mlWY0FT",
        "colab_type": "code",
        "colab": {}
      },
      "source": [
        "# TEMPORAL SPLIT "
      ],
      "execution_count": 0,
      "outputs": []
    },
    {
      "cell_type": "code",
      "metadata": {
        "id": "akYr-gwwXsFY",
        "colab_type": "code",
        "colab": {}
      },
      "source": [
        "df_train = df[(df['d'] < 1914-28) & (df['d'] > 800)] \n",
        "df_test = df[(df['d'] >= 1914-28) & (df['d'] < 1914)] \n",
        "df_validation = df[df['d'] >= 1914] "
      ],
      "execution_count": 0,
      "outputs": []
    },
    {
      "cell_type": "code",
      "metadata": {
        "id": "DcGdFwtvYDuu",
        "colab_type": "code",
        "colab": {}
      },
      "source": [
        "df_train.drop(columns=['d'], inplace=True)\n",
        "df_test.drop(columns=['d'], inplace=True)\n",
        "df_validation.drop(columns=['d'], inplace=True)"
      ],
      "execution_count": 0,
      "outputs": []
    },
    {
      "cell_type": "code",
      "metadata": {
        "id": "8tdMWY8hYonl",
        "colab_type": "code",
        "colab": {}
      },
      "source": [
        "# Setting targets"
      ],
      "execution_count": 0,
      "outputs": []
    },
    {
      "cell_type": "code",
      "metadata": {
        "id": "2r6EgewTY3C6",
        "colab_type": "code",
        "colab": {}
      },
      "source": [
        "y_train = df_train['product_share']\n",
        "y_test = df_test['product_share']\n",
        "\n",
        "df_train.drop(columns=['product_share'], inplace=True) \n",
        "df_test.drop(columns=['product_share'], inplace=True) "
      ],
      "execution_count": 0,
      "outputs": []
    },
    {
      "cell_type": "code",
      "metadata": {
        "id": "HJlEDPSwY37M",
        "colab_type": "code",
        "colab": {}
      },
      "source": [
        "df_train.dtypes"
      ],
      "execution_count": 0,
      "outputs": []
    },
    {
      "cell_type": "code",
      "metadata": {
        "id": "_KzsVVffZc3K",
        "colab_type": "code",
        "colab": {}
      },
      "source": [
        "dtrain = lgb.Dataset(df_train, label=y_train)\n",
        "dval = lgb.Dataset(df_test, label=y_test)"
      ],
      "execution_count": 0,
      "outputs": []
    },
    {
      "cell_type": "code",
      "metadata": {
        "id": "ZsCwcRKkeZtS",
        "colab_type": "code",
        "colab": {
          "base_uri": "https://localhost:8080/",
          "height": 102
        },
        "outputId": "01c08daa-7f8c-4069-b4f9-73c9cb1be3b8"
      },
      "source": [
        "best_params, tuning_history = dict(), list()\n",
        "\n",
        "params = {\n",
        "        \"objective\": \"cross_entropy\",\n",
        "        \"metric\": \"cross_entropy\",\n",
        "        \"verbosity\": -1,\n",
        "        \"boosting_type\": \"gbdt\",\n",
        "    }\n",
        "\n",
        "model = lgb.train(params, \n",
        "                  dtrain, \n",
        "                  valid_sets=[dtrain, dval], \n",
        "                  verbose_eval=100, \n",
        "                  early_stopping_rounds=100, \n",
        "                  best_params=best_params,\n",
        "                  tuning_history=tuning_history)"
      ],
      "execution_count": 0,
      "outputs": [
        {
          "output_type": "stream",
          "text": [
            "/usr/local/lib/python3.6/dist-packages/optuna/_experimental.py:90: ExperimentalWarning:\n",
            "\n",
            "train is experimental (supported from v0.18.0). The interface can change in the future.\n",
            "\n",
            "feature_fraction, val_score: inf:   0%|          | 0/7 [00:00<?, ?it/s]"
          ],
          "name": "stderr"
        }
      ]
    },
    {
      "cell_type": "code",
      "metadata": {
        "id": "OjnlqYrwfGmJ",
        "colab_type": "code",
        "colab": {}
      },
      "source": [
        "#predict sur le jeu de test "
      ],
      "execution_count": 0,
      "outputs": []
    },
    {
      "cell_type": "code",
      "metadata": {
        "id": "ZrCnnqa8fJqW",
        "colab_type": "code",
        "colab": {}
      },
      "source": [
        "prediction = np.rint(model.predict(df_test, num_iteration=model.best_iteration))\n",
        "error = mean_squared_error(y_test, prediction)"
      ],
      "execution_count": 0,
      "outputs": []
    },
    {
      "cell_type": "code",
      "metadata": {
        "id": "SuWDTn8VaRvV",
        "colab_type": "code",
        "colab": {}
      },
      "source": [
        "best_params = model.params\n",
        "print(\"Best params:\", best_params)\n",
        "print(\"  RMSE = {}\".format(error))\n",
        "print(\"  Params: \")\n",
        "for key, value in best_params.items():\n",
        "  print(\"    {}: {}\".format(key, value))"
      ],
      "execution_count": 0,
      "outputs": []
    },
    {
      "cell_type": "code",
      "metadata": {
        "id": "53VP9xrKaS4e",
        "colab_type": "code",
        "colab": {}
      },
      "source": [
        "print(‘Best Params:’, best_params)\n",
        "print(‘Tuning history:’, tuning_history)"
      ],
      "execution_count": 0,
      "outputs": []
    }
  ]
}