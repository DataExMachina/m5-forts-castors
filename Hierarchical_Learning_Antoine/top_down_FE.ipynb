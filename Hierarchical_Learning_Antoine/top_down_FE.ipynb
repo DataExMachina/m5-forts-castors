{
 "cells": [
  {
   "cell_type": "markdown",
   "metadata": {},
   "source": [
    "## Requirements"
   ]
  },
  {
   "cell_type": "code",
   "execution_count": 1,
   "metadata": {
    "_cell_guid": "b1076dfc-b9ad-4769-8c92-a6c4dae69d19",
    "_uuid": "8f2839f25d086af736a60e9eeb907d3b93b6e0e5"
   },
   "outputs": [],
   "source": [
    "import numpy as np\n",
    "import pandas as pd\n",
    "import pickle\n",
    "\n",
    "from math import ceil"
   ]
  },
  {
   "cell_type": "markdown",
   "metadata": {},
   "source": [
    "## Params"
   ]
  },
  {
   "cell_type": "code",
   "execution_count": null,
   "metadata": {},
   "outputs": [],
   "source": [
    "START_DAY = 800\n",
    "DATA_PATH = '../data/'\n",
    "\n",
    "TOP_LEVEL_KEYS = ['store_id', 'dept_id', 'd']"
   ]
  },
  {
   "cell_type": "markdown",
   "metadata": {},
   "source": [
    "## Load interim data"
   ]
  },
  {
   "cell_type": "code",
   "execution_count": null,
   "metadata": {},
   "outputs": [],
   "source": [
    "grid_df = pd.read_pickle(DATA_PATH + 'interim/grid_df.pkl')"
   ]
  },
  {
   "cell_type": "markdown",
   "metadata": {},
   "source": [
    "## Reduce data"
   ]
  },
  {
   "cell_type": "code",
   "execution_count": null,
   "metadata": {},
   "outputs": [],
   "source": [
    "if START_DAY > 0:\n",
    "    grid_df = grid_df[grid_df['d'] >= START_DAY]"
   ]
  },
  {
   "cell_type": "markdown",
   "metadata": {},
   "source": [
    "## Rework calendar features"
   ]
  },
  {
   "cell_type": "code",
   "execution_count": null,
   "metadata": {},
   "outputs": [],
   "source": [
    "# delete some cols first (we're going to recreate some cleaner ones)\n",
    "grid_df.drop(columns=['wm_yr_wk', 'weekday', 'wday', 'month', 'year'], inplace=True)\n",
    "\n",
    "# Make some features from date\n",
    "grid_df['dow'] = grid_df['date'].dt.dayofweek.astype(np.int8)\n",
    "grid_df['dom'] = grid_df['date'].dt.day.astype(np.int8)\n",
    "grid_df['month'] = grid_df['date'].dt.month.astype(np.int8)\n",
    "grid_df['week'] = grid_df['date'].dt.week.astype(np.int8)\n",
    "grid_df['wom'] = grid_df['dom'].apply(lambda x: ceil(x / 7)).astype(np.int8)\n",
    "grid_df['quarter'] = grid_df['date'].dt.quarter.astype(np.int8)\n",
    "grid_df['year'] = grid_df['date'].dt.year.astype(np.int16)\n",
    "\n",
    "# And other ones\n",
    "grid_df['is_week_end'] = (grid_df['dow'] >= 5).astype('category')\n",
    "grid_df['age'] = (grid_df.groupby('id').cumcount() + 1).astype(np.int16)\n",
    "\n",
    "# delete date\n",
    "grid_df.drop(columns=['date'], inplace=True)"
   ]
  },
  {
   "cell_type": "markdown",
   "metadata": {},
   "source": [
    "## Calculate top level sales"
   ]
  },
  {
   "cell_type": "code",
   "execution_count": null,
   "metadata": {},
   "outputs": [],
   "source": [
    "top_level_sales = grid_df.groupby(TOP_LEVEL_KEYS).agg(top_sales=('sales', 'sum')).reset_index()\n",
    "top_level_sales.loc[top_level_sales['d'] > 1941, 'top_sales'] = np.nan # Because sum of NaN equal 0 not NaN in pandas "
   ]
  },
  {
   "cell_type": "markdown",
   "metadata": {},
   "source": [
    "## Deduct low level ratio"
   ]
  },
  {
   "cell_type": "code",
   "execution_count": null,
   "metadata": {},
   "outputs": [],
   "source": [
    "grid_df = pd.merge(grid_df, top_level_sales, on=TOP_LEVEL_KEYS)"
   ]
  },
  {
   "cell_type": "code",
   "execution_count": null,
   "metadata": {},
   "outputs": [],
   "source": [
    "grid_df['sales_ratio'] = grid_df['top_sales']\n",
    "grid_df.loc[grid_df['sales_ratio'] > 0, 'sales_ratio'] = grid_df['sales'] / grid_df['top_sales']"
   ]
  },
  {
   "cell_type": "markdown",
   "metadata": {},
   "source": [
    "## Keep only usefull features"
   ]
  },
  {
   "cell_type": "code",
   "execution_count": null,
   "metadata": {},
   "outputs": [],
   "source": [
    "grid_df.drop(columns=['event_name_1', 'event_type_1', 'event_name_2', 'event_type_2', 'top_sales'], inplace=True)"
   ]
  },
  {
   "cell_type": "markdown",
   "metadata": {},
   "source": [
    "## Save as refined data"
   ]
  },
  {
   "cell_type": "code",
   "execution_count": null,
   "metadata": {},
   "outputs": [],
   "source": [
    "# Use pickle to not lose dtypes\n",
    "grid_df.to_pickle(DATA_PATH + 'refined/top_down_df.pkl')\n",
    "\n",
    "grid_df.info()"
   ]
  }
 ],
 "metadata": {
  "kernelspec": {
   "display_name": "Python 3",
   "language": "python",
   "name": "python3"
  },
  "language_info": {
   "codemirror_mode": {
    "name": "ipython",
    "version": 3
   },
   "file_extension": ".py",
   "mimetype": "text/x-python",
   "name": "python",
   "nbconvert_exporter": "python",
   "pygments_lexer": "ipython3",
   "version": "3.7.6"
  }
 },
 "nbformat": 4,
 "nbformat_minor": 4
}
