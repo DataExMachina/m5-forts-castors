{
 "cells": [
  {
   "cell_type": "code",
   "execution_count": null,
   "metadata": {
    "colab": {},
    "colab_type": "code",
    "id": "4aIKl129SOR7"
   },
   "outputs": [],
   "source": [
    "#from google.colab import drive\n",
    "#drive.mount('/content/drive/')"
   ]
  },
  {
   "cell_type": "code",
   "execution_count": null,
   "metadata": {
    "colab": {},
    "colab_type": "code",
    "id": "luENDgGNRvWB"
   },
   "outputs": [],
   "source": [
    "#!pip install catboost --upgrade"
   ]
  },
  {
   "cell_type": "markdown",
   "metadata": {},
   "source": [
    "## Requirements"
   ]
  },
  {
   "cell_type": "code",
   "execution_count": 1,
   "metadata": {
    "_cell_guid": "b1076dfc-b9ad-4769-8c92-a6c4dae69d19",
    "_uuid": "8f2839f25d086af736a60e9eeb907d3b93b6e0e5",
    "colab": {},
    "colab_type": "code",
    "id": "j7TbhuPRQoVG"
   },
   "outputs": [],
   "source": [
    "import numpy as np\n",
    "import pandas as pd\n",
    "import pickle\n",
    "\n",
    "from catboost import Pool, CatBoostRegressor"
   ]
  },
  {
   "cell_type": "markdown",
   "metadata": {},
   "source": [
    "## Params"
   ]
  },
  {
   "cell_type": "code",
   "execution_count": 2,
   "metadata": {
    "_cell_guid": "79c7e3d0-c299-4dcb-8224-4455121ee9b0",
    "_uuid": "d629ff2d2480ee46fbb7e2d37f6b5fab8052498a",
    "colab": {},
    "colab_type": "code",
    "id": "SUiGo88-QoVK"
   },
   "outputs": [],
   "source": [
    "SUBMISSION_TYPE = 'validation' # 'evaluation'\n",
    "DATA_PATH = '../data/' # '/content/drive/My Drive/'\n",
    "\n",
    "if SUBMISSION_TYPE == 'validation':\n",
    "    END_TRAIN = 1913\n",
    "    END_VALID = 1941\n",
    "elif SUBMISSION_TYPE == 'evaluation':\n",
    "    END_TRAIN = 1941\n",
    "    END_VALID = 1969"
   ]
  },
  {
   "cell_type": "markdown",
   "metadata": {},
   "source": [
    "## Load data"
   ]
  },
  {
   "cell_type": "code",
   "execution_count": 3,
   "metadata": {
    "colab": {},
    "colab_type": "code",
    "id": "W740PyobQoVM"
   },
   "outputs": [],
   "source": [
    "df = pd.read_pickle(DATA_PATH + '/refined/top_down_df.pkl')"
   ]
  },
  {
   "cell_type": "markdown",
   "metadata": {},
   "source": [
    "# Split train & valid df"
   ]
  },
  {
   "cell_type": "code",
   "execution_count": 5,
   "metadata": {},
   "outputs": [],
   "source": [
    "train_df = df[df['d'] <= END_TRAIN]\n",
    "valid_df = df[(df['d'] > END_TRAIN) & (df['d'] <= END_VALID)]\n",
    "\n",
    "del df"
   ]
  },
  {
   "cell_type": "code",
   "execution_count": 11,
   "metadata": {},
   "outputs": [
    {
     "data": {
      "text/plain": [
       "0           0.000000\n",
       "1           0.002012\n",
       "2           0.000000\n",
       "3           0.004025\n",
       "4           0.000000\n",
       "              ...   \n",
       "33183743    0.000448\n",
       "33183744    0.000000\n",
       "33183745    0.000000\n",
       "33183746    0.001344\n",
       "33183747    0.000000\n",
       "Name: sales_ratio, Length: 31522396, dtype: float16"
      ]
     },
     "execution_count": 11,
     "metadata": {},
     "output_type": "execute_result"
    }
   ],
   "source": [
    "train_df['sales_ratio'].astype(float21)"
   ]
  },
  {
   "cell_type": "code",
   "execution_count": 8,
   "metadata": {},
   "outputs": [
    {
     "data": {
      "text/plain": [
       "count    3.152240e+07\n",
       "mean              NaN\n",
       "std      0.000000e+00\n",
       "min      0.000000e+00\n",
       "25%      0.000000e+00\n",
       "50%      0.000000e+00\n",
       "75%      2.243042e-03\n",
       "max      1.000000e+00\n",
       "Name: sales_ratio, dtype: float64"
      ]
     },
     "execution_count": 8,
     "metadata": {},
     "output_type": "execute_result"
    }
   ],
   "source": [
    "train_df.describe()['sales_ratio']"
   ]
  },
  {
   "cell_type": "markdown",
   "metadata": {},
   "source": [
    "## Prepare Pool params"
   ]
  },
  {
   "cell_type": "code",
   "execution_count": null,
   "metadata": {},
   "outputs": [],
   "source": [
    "def process_data(df):\n",
    "    '''List data type (category vs numeric) & convert all non-category data to float32'''\n",
    "    cf = []\n",
    "    for col in df:\n",
    "        if str(df[col].dtype) == 'category':\n",
    "            cf.append(col)\n",
    "        else:\n",
    "            df[col] = df[col].astype(np.float32)\n",
    "    return df, cf"
   ]
  },
  {
   "cell_type": "code",
   "execution_count": null,
   "metadata": {},
   "outputs": [],
   "source": [
    "data_train, cat_features_train = process_data(train_df.drop(columns=['id', 'sales', 'sales_ratio']))\n",
    "data_valid, cat_features_valid = process_data(valid_df.drop(columns=['id', 'sales', 'sales_ratio']))\n",
    "\n",
    "label_train = np.array(train_df['sales_ratio'], dtype=np.float32)\n",
    "\n",
    "output_id = valid_df['id'].unique()"
   ]
  },
  {
   "cell_type": "markdown",
   "metadata": {},
   "source": [
    "## Create Catboost Pools "
   ]
  },
  {
   "cell_type": "code",
   "execution_count": null,
   "metadata": {
    "colab": {},
    "colab_type": "code",
    "id": "1SIZWzolQoVR"
   },
   "outputs": [],
   "source": [
    "train_pool = Pool(\n",
    "    data=data_train,\n",
    "    label=label_train,\n",
    "    cat_features=cat_features_train\n",
    ")\n",
    "\n",
    "valid_pool = Pool(\n",
    "    data=data_valid,\n",
    "    cat_features=cat_features_valid\n",
    ")\n",
    "\n",
    "del data_train, label_train, cat_features_train\n",
    "del data_valid, cat_features_valid"
   ]
  },
  {
   "cell_type": "markdown",
   "metadata": {},
   "source": [
    "## Catboost Params"
   ]
  },
  {
   "cell_type": "code",
   "execution_count": null,
   "metadata": {
    "colab": {},
    "colab_type": "code",
    "id": "HWQOifAbA0UA"
   },
   "outputs": [],
   "source": [
    "catboost_params = {\n",
    "    'depth': 15,\n",
    "    'learning_rate': 0.6647197585933009,\n",
    "    'l2_leaf_reg': 0.9817791173327812,\n",
    "    'bootstrap_type': 'No',\n",
    "    'border_count': 218,\n",
    "    'grow_policy': 'SymmetricTree',\n",
    "    'eval_metric': 'RMSE',\n",
    "    'use_best_model': False,\n",
    "    'task_type': 'GPU',\n",
    "    'random_seed': 666,\n",
    "    'verbose': 10,\n",
    "    'loss_function': 'RMSE',\n",
    "    'iterations': 300,\n",
    "    'early_stopping_rounds': 20\n",
    "}\n",
    "\n",
    "cbr = CatBoostRegressor(**catboost_params)"
   ]
  },
  {
   "cell_type": "markdown",
   "metadata": {},
   "source": [
    "## Fit & Predict"
   ]
  },
  {
   "cell_type": "code",
   "execution_count": null,
   "metadata": {},
   "outputs": [],
   "source": [
    "cbr.fit(train_pool)"
   ]
  },
  {
   "cell_type": "code",
   "execution_count": null,
   "metadata": {},
   "outputs": [],
   "source": [
    "forecast = cbr.predict(valid_pool)"
   ]
  },
  {
   "cell_type": "markdown",
   "metadata": {},
   "source": [
    "## Export"
   ]
  },
  {
   "cell_type": "code",
   "execution_count": null,
   "metadata": {},
   "outputs": [],
   "source": [
    "valid_df['sales_ratio'] = forecast # Overwrite with forecast\n",
    "res = valid_df[['id', 'dept_id', 'store_id', 'd', 'sales_ratio']]\n",
    "res.to_csv(DATA_PATH + '/refined/top_down_ratio_' + SUBMISSION_TYPE + '.csv', index=False)"
   ]
  }
 ],
 "metadata": {
  "accelerator": "GPU",
  "colab": {
   "collapsed_sections": [],
   "machine_shape": "hm",
   "name": "Catboost_Submission.ipynb",
   "provenance": []
  },
  "kernelspec": {
   "display_name": "Python 3",
   "language": "python",
   "name": "python3"
  },
  "language_info": {
   "codemirror_mode": {
    "name": "ipython",
    "version": 3
   },
   "file_extension": ".py",
   "mimetype": "text/x-python",
   "name": "python",
   "nbconvert_exporter": "python",
   "pygments_lexer": "ipython3",
   "version": "3.7.6"
  }
 },
 "nbformat": 4,
 "nbformat_minor": 1
}
