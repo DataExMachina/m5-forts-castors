{
 "cells": [
  {
   "cell_type": "code",
   "execution_count": null,
   "metadata": {},
   "outputs": [],
   "source": [
    "import pandas as pd\n",
    "import numpy as np\n",
    "import pickle\n",
    "\n",
    "import plotly.offline as py\n",
    "\n",
    "from joblib import Parallel, delayed\n",
    "from fbprophet import Prophet\n",
    "from fbprophet.plot import *\n",
    "from fbprophet.diagnostics import cross_validation\n",
    "from fbprophet.diagnostics import performance_metrics"
   ]
  },
  {
   "cell_type": "markdown",
   "metadata": {},
   "source": [
    "## Params"
   ]
  },
  {
   "cell_type": "code",
   "execution_count": null,
   "metadata": {},
   "outputs": [],
   "source": [
    "END_SALES = 1913"
   ]
  },
  {
   "cell_type": "markdown",
   "metadata": {},
   "source": [
    "## Load data"
   ]
  },
  {
   "cell_type": "code",
   "execution_count": null,
   "metadata": {},
   "outputs": [],
   "source": [
    "grid_df = pd.read_pickle(\"data/interim/grid_df.pkl\")\n",
    "sample_submission = pd.read_csv('data/refined/sample_submission.csv')"
   ]
  },
  {
   "cell_type": "code",
   "execution_count": null,
   "metadata": {},
   "outputs": [],
   "source": [
    "prophet_params = pd.read_json(\"data/external/prophet_params_2020-05-12-20-05-33.json\")\n",
    "prophet_params = prophet_params.T.reset_index().rename(columns={'index' : 'id'})\n",
    "#test = pd.DataFrame.from_records(prophet_params_3.params)"
   ]
  },
  {
   "cell_type": "markdown",
   "metadata": {},
   "source": [
    "## Format data for Prophet"
   ]
  },
  {
   "cell_type": "code",
   "execution_count": null,
   "metadata": {},
   "outputs": [],
   "source": [
    "grid_df['snap'] = grid_df['snap_CA']\n",
    "grid_df.loc[grid_df['state_id'] == 'TX', 'snap'] = grid_df.loc[grid_df['state_id'] == 'TX', 'snap_TX'].values\n",
    "grid_df.loc[grid_df['state_id'] == 'WI', 'snap'] = grid_df.loc[grid_df['state_id'] == 'WI', 'snap_WI'].values\n",
    "grid_df['snap'] = grid_df['snap'].astype(int)"
   ]
  },
  {
   "cell_type": "code",
   "execution_count": null,
   "metadata": {},
   "outputs": [],
   "source": [
    "prophet_df = grid_df.groupby(['store_id', 'dept_id', 'd']).agg(ds=('date', 'max'), \n",
    "                                                               y=('sales', 'sum'),\n",
    "                                                               snap=('snap', 'max'),\n",
    "                                                               price=('sell_price', 'max')).reset_index()\n",
    "\n",
    "prophet_df['id'] = prophet_df['store_id'].astype(str) + '_' + prophet_df['dept_id'].astype(str)\n",
    "prophet_df.loc[prophet_df['d'] > END_SALES, 'y'] = np.nan # because in pandas, sum of NaN == 0\n",
    "\n",
    "prophet_df = prophet_df[['id', 'd', 'ds', 'y', 'snap', 'price']]"
   ]
  },
  {
   "cell_type": "markdown",
   "metadata": {},
   "source": [
    "## Forecast"
   ]
  },
  {
   "cell_type": "code",
   "execution_count": null,
   "metadata": {},
   "outputs": [],
   "source": [
    "def forecast_prophet(id, include_history=False):\n",
    "    \n",
    "    # Reduce df & save (futur) regressors\n",
    "    df = prophet_df[prophet_df['id'] == id].copy()\n",
    "    price = df['price'].values\n",
    "    snap = df['snap'].values\n",
    "    y = df['y'].values\n",
    "    d = df['d'].values\n",
    "    df.dropna(inplace=True)\n",
    "    \n",
    "    # Get params\n",
    "    params = prophet_params.loc[prophet_params['id'] == id, 'params'].values[0]\n",
    "    \n",
    "    # Define model\n",
    "    m = Prophet(\n",
    "        yearly_seasonality=False,\n",
    "        weekly_seasonality=False,\n",
    "        daily_seasonality=False,\n",
    "        uncertainty_samples=False,\n",
    "        changepoint_range=params['changepoint_range'],\n",
    "        seasonality_mode=params['seasonality_mode'],\n",
    "        seasonality_prior_scale=params['seasonality_prior_scale'],\n",
    "        holidays_prior_scale=params['holidays_prior_scale'],\n",
    "        changepoint_prior_scale=params['changepoint_prior_scale'],\n",
    "    )\n",
    "    \n",
    "    m.add_seasonality(\n",
    "        name='yearly', \n",
    "        period=365.25, \n",
    "        fourier_order=params['seasonality_order'],\n",
    "    )\n",
    "    \n",
    "    m.add_seasonality(\n",
    "        name='monthly', \n",
    "        period=365.25/12, \n",
    "        fourier_order=params['seasonality_order'],\n",
    "    )\n",
    "    \n",
    "    m.add_seasonality(\n",
    "        name='weekly', \n",
    "        period=7, \n",
    "        fourier_order=params['seasonality_order'],\n",
    "    )\n",
    "    \n",
    "    # Add holidays/regressor\n",
    "    m.add_country_holidays(country_name='US')\n",
    "    \n",
    "    m.add_regressor('snap', mode=params['snap_mode'])\n",
    "        \n",
    "    m.add_regressor('price')\n",
    "                \n",
    "    # Fit \n",
    "    m.fit(df)\n",
    "    \n",
    "    # Predict\n",
    "    future = m.make_future_dataframe(periods=28, freq='D', include_history=include_history)\n",
    "    if include_history:\n",
    "        future['price'] = price\n",
    "        future['snap'] = snap\n",
    "    else:\n",
    "        future['price'] = price[-28:]\n",
    "        future['snap'] = snap[-28:]\n",
    "    \n",
    "    fcst = m.predict(future)\n",
    "    \n",
    "    # Format output\n",
    "    fcst['id'] = id\n",
    "    fcst['y'] = y\n",
    "    fcst['d'] = d\n",
    "    \n",
    "    for c in ['yhat']: #['yhat_lower', 'yhat_upper', 'yhat']\n",
    "        fcst[c] = fcst[c].round().astype(int)\n",
    "        fcst.loc[fcst[c] < 0, c] = 0\n",
    "        \n",
    "    return m, fcst"
   ]
  },
  {
   "cell_type": "code",
   "execution_count": null,
   "metadata": {},
   "outputs": [],
   "source": [
    "l_id = prophet_df['id'].unique()\n",
    "\n",
    "include_history = True\n",
    "res = Parallel(n_jobs=-1, verbose=1)(delayed(forecast_prophet)(id, include_history) for id in l_id)"
   ]
  },
  {
   "cell_type": "code",
   "execution_count": null,
   "metadata": {},
   "outputs": [],
   "source": [
    "prophet_model = {}\n",
    "for i, r in enumerate(res):\n",
    "    prophet_model[str(l_id[i])] = r[0]\n",
    "    \n",
    "forecast = pd.concat([r[1] for r in res], sort=False)\n",
    "\n",
    "del res"
   ]
  },
  {
   "cell_type": "code",
   "execution_count": null,
   "metadata": {},
   "outputs": [],
   "source": [
    "#fc = forecast[['id', 'ds', 'd', 'y', 'yhat']]\n",
    "#fc.to_csv('data/refined/forecast_prophet_store_dept.csv', index=False)"
   ]
  },
  {
   "cell_type": "markdown",
   "metadata": {},
   "source": [
    "## Plots"
   ]
  },
  {
   "cell_type": "code",
   "execution_count": null,
   "metadata": {},
   "outputs": [],
   "source": [
    "prophet_params.sort_values('rmse')"
   ]
  },
  {
   "cell_type": "code",
   "execution_count": null,
   "metadata": {},
   "outputs": [],
   "source": [
    "id = 'CA_3_FOODS_3'"
   ]
  },
  {
   "cell_type": "code",
   "execution_count": null,
   "metadata": {},
   "outputs": [],
   "source": [
    "m = prophet_model[str(id)]\n",
    "fcst = forecast[forecast['id'] == id]\n",
    "\n",
    "fig = plot_plotly(m, fcst, uncertainty=True, plot_cap=False, trend=True, changepoints=True,\n",
    "                  changepoints_threshold=0.01, xlabel='date', ylabel='sales', figsize=(900, 600))\n",
    "py.iplot(fig)"
   ]
  },
  {
   "cell_type": "markdown",
   "metadata": {},
   "source": [
    "## Top-Down\n",
    "##### 1) Deduce weigts using last 28 days"
   ]
  },
  {
   "cell_type": "code",
   "execution_count": null,
   "metadata": {},
   "outputs": [],
   "source": [
    "grid_df_l28 = grid_df[(grid_df['d'] <= END_SALES) & (grid_df['d'] > END_SALES - 364)].copy()"
   ]
  },
  {
   "cell_type": "code",
   "execution_count": null,
   "metadata": {},
   "outputs": [],
   "source": [
    "#store_dpt = grid_df_l28.groupby(['store_id', 'dept_id', 'd']).agg(store_dpt_sales=('sales', 'sum')).reset_index()\n",
    "store_dpt = grid_df_l28.groupby(['store_id', 'dept_id', 'weekday']).agg(store_dpt_sales=('sales', 'sum')).reset_index()\n",
    "store_dpt.head(3)"
   ]
  },
  {
   "cell_type": "code",
   "execution_count": null,
   "metadata": {},
   "outputs": [],
   "source": [
    "#weight = grid_df_l28[['id', 'store_id', 'dept_id', 'd', 'sales']]\n",
    "weight = grid_df_l28.groupby(['id', 'weekday']).agg(sales=('sales', 'sum')).reset_index()\n",
    "weight = pd.merge(weight, grid_df_l28[['id', 'store_id', 'dept_id']].drop_duplicates())\n",
    "\n",
    "weight = pd.merge(weight, store_dpt, how='left')\n",
    "weight['w'] = weight['sales'] / weight['store_dpt_sales']\n",
    "weight['F'] = weight.groupby('id').cumcount() + 1\n",
    "\n",
    "weight = weight[['id', 'dept_id', 'store_id', 'F', 'w']]\n",
    "\n",
    "#weight = weight[['id', 'dept_id', 'store_id', 'w']]"
   ]
  },
  {
   "cell_type": "code",
   "execution_count": null,
   "metadata": {},
   "outputs": [],
   "source": [
    "l = []\n",
    "for i in [7, 14, 21]:\n",
    "    tmp = weight.copy()\n",
    "    tmp['F'] = tmp['F'] + i\n",
    "    l.append(tmp)\n",
    "    \n",
    "weight = pd.concat([weight] + l)\n",
    "\n",
    "weight.sort_values(['id', 'F']).head(30)"
   ]
  },
  {
   "cell_type": "markdown",
   "metadata": {},
   "source": [
    "##### 2) Apply weight top-down"
   ]
  },
  {
   "cell_type": "code",
   "execution_count": null,
   "metadata": {},
   "outputs": [],
   "source": [
    "fcst = forecast[['id', 'yhat']].copy()\n",
    "fcst['F'] = fcst.groupby('id').cumcount() + 1\n",
    "fcst['store_id'] = fcst['id'].str[:4]\n",
    "fcst['dept_id'] = fcst['id'].str[5:]\n",
    "\n",
    "fcst = fcst[['store_id', 'dept_id', 'F', 'yhat']]\n",
    "fcst.head(3)"
   ]
  },
  {
   "cell_type": "code",
   "execution_count": null,
   "metadata": {},
   "outputs": [],
   "source": [
    "res = pd.merge(weight, fcst, how='left')\n",
    "res['fcst'] = res['w'] * res['yhat']\n",
    "\n",
    "res = pd.crosstab(index=res['id'], columns=res['F'], values=res['fcst'], aggfunc=sum)\n",
    "res = res.add_prefix('F')"
   ]
  },
  {
   "cell_type": "markdown",
   "metadata": {},
   "source": [
    "##### 3) Format submission file"
   ]
  },
  {
   "cell_type": "code",
   "execution_count": null,
   "metadata": {},
   "outputs": [],
   "source": [
    "sub = sample_submission.copy()\n",
    "sub.set_index('id', inplace=True)\n",
    "sub.update(res)\n",
    "sub.reset_index(inplace=True)\n",
    "sub"
   ]
  },
  {
   "cell_type": "code",
   "execution_count": null,
   "metadata": {},
   "outputs": [],
   "source": [
    "sub.to_csv('data/submission/Prophet_top_down_naive_364_weekly.csv', index=False)"
   ]
  },
  {
   "cell_type": "code",
   "execution_count": null,
   "metadata": {},
   "outputs": [],
   "source": []
  }
 ],
 "metadata": {
  "kernelspec": {
   "display_name": "Python [conda env:m5_env] *",
   "language": "python",
   "name": "conda-env-m5_env-py"
  },
  "language_info": {
   "codemirror_mode": {
    "name": "ipython",
    "version": 3
   },
   "file_extension": ".py",
   "mimetype": "text/x-python",
   "name": "python",
   "nbconvert_exporter": "python",
   "pygments_lexer": "ipython3",
   "version": "3.7.6"
  }
 },
 "nbformat": 4,
 "nbformat_minor": 4
}
