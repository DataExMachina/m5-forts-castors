{
 "cells": [
  {
   "cell_type": "code",
   "execution_count": null,
   "metadata": {
    "colab": {
     "base_uri": "https://localhost:8080/",
     "height": 122
    },
    "colab_type": "code",
    "id": "kzt0KuNuNBnM",
    "outputId": "9fae89eb-e156-410f-c8d0-4909fb4ea37d"
   },
   "outputs": [],
   "source": [
    "#from google.colab import drive\n",
    "#drive.mount('/content/drive/')"
   ]
  },
  {
   "cell_type": "code",
   "execution_count": null,
   "metadata": {
    "colab": {
     "base_uri": "https://localhost:8080/",
     "height": 1000
    },
    "colab_type": "code",
    "id": "R2MCacTINGit",
    "outputId": "30989323-657c-4916-d32e-6cad9ead3ff0"
   },
   "outputs": [],
   "source": [
    "#!pip install catboost optuna --upgrade"
   ]
  },
  {
   "cell_type": "markdown",
   "metadata": {
    "colab_type": "text",
    "id": "Yb1PsMe-M1DA"
   },
   "source": [
    "## Requirements"
   ]
  },
  {
   "cell_type": "code",
   "execution_count": 1,
   "metadata": {
    "_cell_guid": "b1076dfc-b9ad-4769-8c92-a6c4dae69d19",
    "_uuid": "8f2839f25d086af736a60e9eeb907d3b93b6e0e5",
    "colab": {},
    "colab_type": "code",
    "id": "j7TbhuPRQoVG"
   },
   "outputs": [],
   "source": [
    "import numpy as np\n",
    "import pandas as pd\n",
    "import pickle\n",
    "import pprint\n",
    "\n",
    "from catboost import Pool, CatBoostRegressor\n",
    "import optuna"
   ]
  },
  {
   "cell_type": "markdown",
   "metadata": {
    "colab_type": "text",
    "id": "4XNbvX_gM1DH"
   },
   "source": [
    "## Params"
   ]
  },
  {
   "cell_type": "code",
   "execution_count": 2,
   "metadata": {},
   "outputs": [],
   "source": [
    "TUNING_TYPE = 'validation' # 'evaluation'\n",
    "DATA_PATH = '../data/' # '/content/drive/My Drive/'\n",
    "\n",
    "if TUNING_TYPE == 'validation': # Tuning for validation (1914 --> 1941) using past month to validate\n",
    "    END_TRAIN = 1885\n",
    "    END_VALID = 1913\n",
    "elif TUNING_TYPE == 'evaluation': # Tuning for evaluation (1941 --> 1969) using past month to validate\n",
    "    END_TRAIN = 1913\n",
    "    END_VALID = 1941"
   ]
  },
  {
   "cell_type": "markdown",
   "metadata": {
    "colab_type": "text",
    "id": "cTvaOFC9M1DK"
   },
   "source": [
    "## Load data"
   ]
  },
  {
   "cell_type": "code",
   "execution_count": 25,
   "metadata": {
    "colab": {},
    "colab_type": "code",
    "id": "W740PyobQoVM"
   },
   "outputs": [],
   "source": [
    "df = pd.read_pickle(DATA_PATH + 'refined/top_down_df.pkl')"
   ]
  },
  {
   "cell_type": "code",
   "execution_count": 26,
   "metadata": {},
   "outputs": [
    {
     "data": {
      "text/html": [
       "<div>\n",
       "<style scoped>\n",
       "    .dataframe tbody tr th:only-of-type {\n",
       "        vertical-align: middle;\n",
       "    }\n",
       "\n",
       "    .dataframe tbody tr th {\n",
       "        vertical-align: top;\n",
       "    }\n",
       "\n",
       "    .dataframe thead th {\n",
       "        text-align: right;\n",
       "    }\n",
       "</style>\n",
       "<table border=\"1\" class=\"dataframe\">\n",
       "  <thead>\n",
       "    <tr style=\"text-align: right;\">\n",
       "      <th></th>\n",
       "      <th>sales_ratio</th>\n",
       "    </tr>\n",
       "  </thead>\n",
       "  <tbody>\n",
       "    <tr>\n",
       "      <th>count</th>\n",
       "      <td>3.152240e+07</td>\n",
       "    </tr>\n",
       "    <tr>\n",
       "      <th>mean</th>\n",
       "      <td>2.467637e-03</td>\n",
       "    </tr>\n",
       "    <tr>\n",
       "      <th>std</th>\n",
       "      <td>7.731112e-03</td>\n",
       "    </tr>\n",
       "    <tr>\n",
       "      <th>min</th>\n",
       "      <td>0.000000e+00</td>\n",
       "    </tr>\n",
       "    <tr>\n",
       "      <th>25%</th>\n",
       "      <td>0.000000e+00</td>\n",
       "    </tr>\n",
       "    <tr>\n",
       "      <th>50%</th>\n",
       "      <td>0.000000e+00</td>\n",
       "    </tr>\n",
       "    <tr>\n",
       "      <th>75%</th>\n",
       "      <td>2.243042e-03</td>\n",
       "    </tr>\n",
       "    <tr>\n",
       "      <th>max</th>\n",
       "      <td>1.000000e+00</td>\n",
       "    </tr>\n",
       "  </tbody>\n",
       "</table>\n",
       "</div>"
      ],
      "text/plain": [
       "        sales_ratio\n",
       "count  3.152240e+07\n",
       "mean   2.467637e-03\n",
       "std    7.731112e-03\n",
       "min    0.000000e+00\n",
       "25%    0.000000e+00\n",
       "50%    0.000000e+00\n",
       "75%    2.243042e-03\n",
       "max    1.000000e+00"
      ]
     },
     "execution_count": 26,
     "metadata": {},
     "output_type": "execute_result"
    }
   ],
   "source": [
    "a = df[df['d'] <= END_VALID].copy()\n",
    "a['sales_ratio'] = a['sales_ratio'].astype(np.float32) \n",
    "a.describe()[['sales_ratio']]"
   ]
  },
  {
   "cell_type": "markdown",
   "metadata": {
    "colab_type": "text",
    "id": "Gz93_accM1DP"
   },
   "source": [
    "## Split train & valid df"
   ]
  },
  {
   "cell_type": "code",
   "execution_count": 4,
   "metadata": {
    "colab": {},
    "colab_type": "code",
    "id": "GouTk3MwMrVp"
   },
   "outputs": [],
   "source": [
    "train_df = df[df['d'] <= END_TRAIN]\n",
    "valid_df = df[(df['d'] > END_TRAIN) & (df['d'] <= END_VALID)]\n",
    "\n",
    "del df"
   ]
  },
  {
   "cell_type": "code",
   "execution_count": 14,
   "metadata": {},
   "outputs": [],
   "source": [
    "a = train_df[train_df.d >= 1885 - 27]\n",
    "a.describe()[['sales_ratio']]"
   ]
  },
  {
   "cell_type": "code",
   "execution_count": 19,
   "metadata": {},
   "outputs": [
    {
     "data": {
      "text/html": [
       "<div>\n",
       "<style scoped>\n",
       "    .dataframe tbody tr th:only-of-type {\n",
       "        vertical-align: middle;\n",
       "    }\n",
       "\n",
       "    .dataframe tbody tr th {\n",
       "        vertical-align: top;\n",
       "    }\n",
       "\n",
       "    .dataframe thead th {\n",
       "        text-align: right;\n",
       "    }\n",
       "</style>\n",
       "<table border=\"1\" class=\"dataframe\">\n",
       "  <thead>\n",
       "    <tr style=\"text-align: right;\">\n",
       "      <th></th>\n",
       "      <th>sales_ratio</th>\n",
       "    </tr>\n",
       "  </thead>\n",
       "  <tbody>\n",
       "    <tr>\n",
       "      <th>count</th>\n",
       "      <td>853720.000000</td>\n",
       "    </tr>\n",
       "    <tr>\n",
       "      <th>mean</th>\n",
       "      <td>0.000000</td>\n",
       "    </tr>\n",
       "    <tr>\n",
       "      <th>std</th>\n",
       "      <td>0.000000</td>\n",
       "    </tr>\n",
       "    <tr>\n",
       "      <th>min</th>\n",
       "      <td>0.000000</td>\n",
       "    </tr>\n",
       "    <tr>\n",
       "      <th>25%</th>\n",
       "      <td>0.000000</td>\n",
       "    </tr>\n",
       "    <tr>\n",
       "      <th>50%</th>\n",
       "      <td>0.000000</td>\n",
       "    </tr>\n",
       "    <tr>\n",
       "      <th>75%</th>\n",
       "      <td>0.002319</td>\n",
       "    </tr>\n",
       "    <tr>\n",
       "      <th>max</th>\n",
       "      <td>0.688965</td>\n",
       "    </tr>\n",
       "  </tbody>\n",
       "</table>\n",
       "</div>"
      ],
      "text/plain": [
       "         sales_ratio\n",
       "count  853720.000000\n",
       "mean        0.000000\n",
       "std         0.000000\n",
       "min         0.000000\n",
       "25%         0.000000\n",
       "50%         0.000000\n",
       "75%         0.002319\n",
       "max         0.688965"
      ]
     },
     "execution_count": 19,
     "metadata": {},
     "output_type": "execute_result"
    }
   ],
   "source": [
    "valid_df.describe()[['sales_ratio']]"
   ]
  },
  {
   "cell_type": "markdown",
   "metadata": {
    "colab_type": "text",
    "id": "mpMMi7X0kDU3"
   },
   "source": [
    "## Prepare Pool params"
   ]
  },
  {
   "cell_type": "code",
   "execution_count": null,
   "metadata": {
    "colab": {},
    "colab_type": "code",
    "id": "kyOLDqOnM1DS"
   },
   "outputs": [],
   "source": [
    "def process_data(df):\n",
    "    '''List data type (category vs numeric) & convert all non-category data to float32'''\n",
    "    cf = []\n",
    "    for col in df:\n",
    "        if str(df[col].dtype) == 'category':\n",
    "            cf.append(col)\n",
    "        else:\n",
    "            df[col] = df[col].astype(np.float32)\n",
    "    return df, cf"
   ]
  },
  {
   "cell_type": "code",
   "execution_count": null,
   "metadata": {
    "colab": {},
    "colab_type": "code",
    "id": "1SIZWzolQoVR"
   },
   "outputs": [],
   "source": [
    "data_train, cat_features_train = process_data(train_df.drop(columns=['id', 'sales', 'sales_ratio']))\n",
    "data_valid, cat_features_valid = process_data(valid_df.drop(columns=['id', 'sales', 'sales_ratio']))\n",
    "\n",
    "label_train = np.array(train_df['sales_ratio'], dtype=np.float32)\n",
    "label_valid = np.array(valid_df['sales_ratio'], dtype=np.float32)\n",
    "\n",
    "output_id = valid_df['id'].unique()\n",
    "\n",
    "del train_df, valid_df"
   ]
  },
  {
   "cell_type": "markdown",
   "metadata": {
    "colab_type": "text",
    "id": "ogIaW4IPM1DX"
   },
   "source": [
    "## Create Catboost Pools "
   ]
  },
  {
   "cell_type": "code",
   "execution_count": null,
   "metadata": {
    "colab": {},
    "colab_type": "code",
    "id": "Fsk-6yVSQoVX"
   },
   "outputs": [],
   "source": [
    "train_pool = Pool(\n",
    "    data=data_train,\n",
    "    label=label_train,\n",
    "    cat_features=cat_features_train\n",
    ")\n",
    "\n",
    "valid_pool = Pool(\n",
    "    data=data_valid,\n",
    "    label=label_valid,\n",
    "    cat_features=cat_features_valid\n",
    ")\n",
    "\n",
    "del data_train, label_train, cat_features_train\n",
    "del data_valid, label_valid, cat_features_valid"
   ]
  },
  {
   "cell_type": "markdown",
   "metadata": {
    "colab_type": "text",
    "id": "XbGf456vM1Dg"
   },
   "source": [
    "## Define Objective function"
   ]
  },
  {
   "cell_type": "code",
   "execution_count": null,
   "metadata": {
    "colab": {},
    "colab_type": "code",
    "id": "H9I-D2-lEA2R"
   },
   "outputs": [],
   "source": [
    "def objective(trial):\n",
    "\n",
    "    # Define Space \n",
    "    params = {\n",
    "        #'loss_function': trial.suggest_categorical('loss_function', ['RMSE', 'Poisson', 'Tweedie:variance_power=1.5']),\n",
    "        'depth': trial.suggest_int('depth', 5, 16),\n",
    "        #'iterations': int(trial.suggest_discrete_uniform('iterations', 100, 1000, 100)),\n",
    "        'learning_rate': trial.suggest_loguniform('learning_rate', 0.01, 1),\n",
    "        'l2_leaf_reg': trial.suggest_loguniform('l2_leaf_reg', 0.01, 10),\n",
    "        'bootstrap_type': trial.suggest_categorical('bootstrap_type', ['Bayesian', 'Poisson', 'Bernoulli', 'No']),\n",
    "        'border_count': trial.suggest_int('border_count', 1, 255),\n",
    "        'grow_policy': trial.suggest_categorical('grow_policy', ['SymmetricTree', 'Depthwise', 'Lossguide'])\n",
    "    }\n",
    "\n",
    "    if params['bootstrap_type'] == 'Bayesian':\n",
    "        params['bagging_temperature'] = trial.suggest_uniform('bagging_temperature', 0, 10)\n",
    "\n",
    "    if params['bootstrap_type'] in ['Poisson', 'Bernoulli']:\n",
    "        params[\"subsample\"] = trial.suggest_uniform(\"subsample\", 0.1, 1)\n",
    "\n",
    "    if params['grow_policy'] in ['Depthwise', 'Lossguide']:\n",
    "        params[\"min_data_in_leaf\"] = trial.suggest_int('min_data_in_leaf', 1, 10)\n",
    "\n",
    "    if params['grow_policy'] == 'Lossguide':\n",
    "        params[\"max_leaves\"] = trial.suggest_int('max_leaves', 16, 64)\n",
    "\n",
    "    # Fixed Params\n",
    "    params['eval_metric'] = 'RMSE'\n",
    "    params['use_best_model'] = False\n",
    "    params['task_type'] = 'GPU'\n",
    "    params['random_seed'] = 666\n",
    "    params['verbose'] = 10\n",
    "\n",
    "    params['loss_function'] = 'RMSE'\n",
    "    params['iterations'] = 300\n",
    "    params['early_stopping_rounds'] = 20\n",
    "\n",
    "    # some print\n",
    "    print('\\n--------------------------------\\n')\n",
    "    pprint.pprint(params)\n",
    "    print('')\n",
    "    \n",
    "    # Define catboost regressor\n",
    "    cbr = CatBoostRegressor(**params)\n",
    "    \n",
    "    # Fit/predict\n",
    "    cbr.fit(train_pool, eval_set=valid_pool)\n",
    "    \n",
    "    forecast = np.array(cbr.get_test_eval())\n",
    "    best_score = cbr.get_best_score()\n",
    "    \n",
    "    # Print metrics\n",
    "    print('')\n",
    "    print('Loss:', str(best_score))\n",
    "    print('')\n",
    "\n",
    "    # Write logs\n",
    "    f = open(DATA_PATH + 'external/catboost_top_down_tuning.txt', 'a+')\n",
    "    f.write(str(params) + '\\n\\n')\n",
    "    f.write('Loss: ' + str(best_score) + '\\n')\n",
    "    f.write('\\n\\n--------------------------------\\n\\n')\n",
    "\n",
    "    f.close()\n",
    "    \n",
    "    return best_score['validation']['RMSE']"
   ]
  },
  {
   "cell_type": "markdown",
   "metadata": {
    "colab_type": "text",
    "id": "OjvNjzxZM1Di"
   },
   "source": [
    "## Optimize"
   ]
  },
  {
   "cell_type": "code",
   "execution_count": null,
   "metadata": {
    "colab": {
     "base_uri": "https://localhost:8080/",
     "height": 1000
    },
    "colab_type": "code",
    "id": "9Atojxq4M1Dj",
    "outputId": "bfaf158e-eda2-45ab-92b6-21803b7d8db7"
   },
   "outputs": [],
   "source": [
    "study = optuna.create_study(direction=\"minimize\")\n",
    "study.optimize(objective, n_trials=30)"
   ]
  },
  {
   "cell_type": "code",
   "execution_count": null,
   "metadata": {
    "colab": {
     "base_uri": "https://localhost:8080/",
     "height": 187
    },
    "colab_type": "code",
    "id": "46zxv6k8SsN0",
    "outputId": "267f430b-b7b0-47b7-a54d-92a402b22b7a"
   },
   "outputs": [],
   "source": [
    "print(\"Number of finished trials: {}\".format(len(study.trials)))\n",
    "\n",
    "print(\"Best trial:\")\n",
    "trial = study.best_trial\n",
    "\n",
    "print(\"  Value: {}\".format(trial.value))\n",
    "\n",
    "print(\"  Params: \")\n",
    "for key, value in trial.params.items():\n",
    "    print(\"    {}: {}\".format(key, value))"
   ]
  }
 ],
 "metadata": {
  "accelerator": "GPU",
  "colab": {
   "collapsed_sections": [],
   "machine_shape": "hm",
   "name": "catboost_top_down.ipynb",
   "provenance": []
  },
  "kernelspec": {
   "display_name": "Python 3",
   "language": "python",
   "name": "python3"
  },
  "language_info": {
   "codemirror_mode": {
    "name": "ipython",
    "version": 3
   },
   "file_extension": ".py",
   "mimetype": "text/x-python",
   "name": "python",
   "nbconvert_exporter": "python",
   "pygments_lexer": "ipython3",
   "version": "3.7.6"
  }
 },
 "nbformat": 4,
 "nbformat_minor": 1
}
